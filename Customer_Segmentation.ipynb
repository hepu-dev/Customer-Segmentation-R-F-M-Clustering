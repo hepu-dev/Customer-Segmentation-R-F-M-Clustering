{
  "nbformat": 4,
  "nbformat_minor": 0,
  "metadata": {
    "colab": {
      "name": "Customer Segmentation",
      "provenance": [],
      "collapsed_sections": [
        "wFA95t3VzJ66",
        "sEyD9Eg5zNWH",
        "4mEhPTYx07-u"
      ]
    },
    "kernelspec": {
      "name": "python3",
      "display_name": "Python 3"
    },
    "language_info": {
      "name": "python"
    }
  },
  "cells": [
    {
      "cell_type": "code",
      "metadata": {
        "colab": {
          "base_uri": "https://localhost:8080/"
        },
        "id": "J8SetroPtQQ0",
        "outputId": "d0a77e96-661e-42e2-df46-4dd962ff161d"
      },
      "source": [
        "import psycopg2 as pg\n",
        "import pandas.io.sql as psql\n",
        "import pandas as pd\n",
        "import plotly.express as px"
      ],
      "execution_count": null,
      "outputs": [
        {
          "output_type": "stream",
          "text": [
            "/usr/local/lib/python3.7/dist-packages/psycopg2/__init__.py:144: UserWarning: The psycopg2 wheel package will be renamed from release 2.8; in order to keep installing from binary please use \"pip install psycopg2-binary\" instead. For details see: <http://initd.org/psycopg/docs/install.html#binary-install-from-pypi>.\n",
            "  \"\"\")\n"
          ],
          "name": "stderr"
        }
      ]
    },
    {
      "cell_type": "code",
      "metadata": {
        "id": "MwNjXEBzkOx2"
      },
      "source": [
        "#@title Default title text\n",
        "host = \"ec2-54-164-22-242.compute-1.amazonaws.com\"\n",
        "dbname = \"d92sarup3qlji0\"\n",
        "user = \"fttxsdmckdfikz\"\n",
        "password = \"c5561e667cd292f382a0e437807e05c89fba1b894dddff1e77e07befe8a866ac\""
      ],
      "execution_count": null,
      "outputs": []
    },
    {
      "cell_type": "code",
      "metadata": {
        "id": "EddmJqQ-tACb"
      },
      "source": [
        "connection = pg.connect(\"host={} dbname={} user={} password={}\".format(host, dbname, user, password))\n",
        "df_orders = psql.read_sql('SELECT * FROM orders', connection)\n",
        "df_order_details = psql.read_sql_query('select * from order_details', connection)\n",
        "df_products = psql.read_sql_query('select * from products', connection)\n",
        "df_customers = psql.read_sql_query('select * from customers', connection)"
      ],
      "execution_count": null,
      "outputs": []
    },
    {
      "cell_type": "code",
      "metadata": {
        "colab": {
          "base_uri": "https://localhost:8080/",
          "height": 195
        },
        "id": "EbRfze1VtMbO",
        "outputId": "a55ce021-48b8-4d3c-e2d9-2e7fa151221c"
      },
      "source": [
        "df_customers.head()"
      ],
      "execution_count": null,
      "outputs": [
        {
          "output_type": "execute_result",
          "data": {
            "text/html": [
              "<div>\n",
              "<style scoped>\n",
              "    .dataframe tbody tr th:only-of-type {\n",
              "        vertical-align: middle;\n",
              "    }\n",
              "\n",
              "    .dataframe tbody tr th {\n",
              "        vertical-align: top;\n",
              "    }\n",
              "\n",
              "    .dataframe thead th {\n",
              "        text-align: right;\n",
              "    }\n",
              "</style>\n",
              "<table border=\"1\" class=\"dataframe\">\n",
              "  <thead>\n",
              "    <tr style=\"text-align: right;\">\n",
              "      <th></th>\n",
              "      <th>customer_id</th>\n",
              "      <th>company_name</th>\n",
              "      <th>contact_name</th>\n",
              "      <th>contact_title</th>\n",
              "      <th>address</th>\n",
              "      <th>city</th>\n",
              "      <th>region</th>\n",
              "      <th>postal_code</th>\n",
              "      <th>country</th>\n",
              "      <th>phone</th>\n",
              "      <th>fax</th>\n",
              "    </tr>\n",
              "  </thead>\n",
              "  <tbody>\n",
              "    <tr>\n",
              "      <th>0</th>\n",
              "      <td>ALFKI</td>\n",
              "      <td>Alfreds Futterkiste</td>\n",
              "      <td>Maria Anders</td>\n",
              "      <td>Sales Representative</td>\n",
              "      <td>Obere Str. 57</td>\n",
              "      <td>Berlin</td>\n",
              "      <td>None</td>\n",
              "      <td>12209</td>\n",
              "      <td>Germany</td>\n",
              "      <td>030-0074321</td>\n",
              "      <td>030-0076545</td>\n",
              "    </tr>\n",
              "    <tr>\n",
              "      <th>1</th>\n",
              "      <td>ANATR</td>\n",
              "      <td>Ana Trujillo Emparedados y helados</td>\n",
              "      <td>Ana Trujillo</td>\n",
              "      <td>Owner</td>\n",
              "      <td>Avda. de la Constitución 2222</td>\n",
              "      <td>México D.F.</td>\n",
              "      <td>None</td>\n",
              "      <td>05021</td>\n",
              "      <td>Mexico</td>\n",
              "      <td>(5) 555-4729</td>\n",
              "      <td>(5) 555-3745</td>\n",
              "    </tr>\n",
              "    <tr>\n",
              "      <th>2</th>\n",
              "      <td>ANTON</td>\n",
              "      <td>Antonio Moreno Taquería</td>\n",
              "      <td>Antonio Moreno</td>\n",
              "      <td>Owner</td>\n",
              "      <td>Mataderos  2312</td>\n",
              "      <td>México D.F.</td>\n",
              "      <td>None</td>\n",
              "      <td>05023</td>\n",
              "      <td>Mexico</td>\n",
              "      <td>(5) 555-3932</td>\n",
              "      <td>None</td>\n",
              "    </tr>\n",
              "    <tr>\n",
              "      <th>3</th>\n",
              "      <td>AROUT</td>\n",
              "      <td>Around the Horn</td>\n",
              "      <td>Thomas Hardy</td>\n",
              "      <td>Sales Representative</td>\n",
              "      <td>120 Hanover Sq.</td>\n",
              "      <td>London</td>\n",
              "      <td>None</td>\n",
              "      <td>WA1 1DP</td>\n",
              "      <td>UK</td>\n",
              "      <td>(171) 555-7788</td>\n",
              "      <td>(171) 555-6750</td>\n",
              "    </tr>\n",
              "    <tr>\n",
              "      <th>4</th>\n",
              "      <td>BERGS</td>\n",
              "      <td>Berglunds snabbköp</td>\n",
              "      <td>Christina Berglund</td>\n",
              "      <td>Order Administrator</td>\n",
              "      <td>Berguvsvägen  8</td>\n",
              "      <td>Luleå</td>\n",
              "      <td>None</td>\n",
              "      <td>S-958 22</td>\n",
              "      <td>Sweden</td>\n",
              "      <td>0921-12 34 65</td>\n",
              "      <td>0921-12 34 67</td>\n",
              "    </tr>\n",
              "  </tbody>\n",
              "</table>\n",
              "</div>"
            ],
            "text/plain": [
              "  customer_id  ...             fax\n",
              "0       ALFKI  ...     030-0076545\n",
              "1       ANATR  ...    (5) 555-3745\n",
              "2       ANTON  ...            None\n",
              "3       AROUT  ...  (171) 555-6750\n",
              "4       BERGS  ...   0921-12 34 67\n",
              "\n",
              "[5 rows x 11 columns]"
            ]
          },
          "metadata": {
            "tags": []
          },
          "execution_count": 5
        }
      ]
    },
    {
      "cell_type": "code",
      "metadata": {
        "colab": {
          "base_uri": "https://localhost:8080/",
          "height": 279
        },
        "id": "XvkYnaKLtdsY",
        "outputId": "aa87175b-0f6b-4e02-8728-c9d02c638b9f"
      },
      "source": [
        "df_orders.head()"
      ],
      "execution_count": null,
      "outputs": [
        {
          "output_type": "execute_result",
          "data": {
            "text/html": [
              "<div>\n",
              "<style scoped>\n",
              "    .dataframe tbody tr th:only-of-type {\n",
              "        vertical-align: middle;\n",
              "    }\n",
              "\n",
              "    .dataframe tbody tr th {\n",
              "        vertical-align: top;\n",
              "    }\n",
              "\n",
              "    .dataframe thead th {\n",
              "        text-align: right;\n",
              "    }\n",
              "</style>\n",
              "<table border=\"1\" class=\"dataframe\">\n",
              "  <thead>\n",
              "    <tr style=\"text-align: right;\">\n",
              "      <th></th>\n",
              "      <th>order_id</th>\n",
              "      <th>customer_id</th>\n",
              "      <th>employee_id</th>\n",
              "      <th>order_date</th>\n",
              "      <th>required_date</th>\n",
              "      <th>shipped_date</th>\n",
              "      <th>ship_via</th>\n",
              "      <th>freight</th>\n",
              "      <th>ship_name</th>\n",
              "      <th>ship_address</th>\n",
              "      <th>ship_city</th>\n",
              "      <th>ship_region</th>\n",
              "      <th>ship_postal_code</th>\n",
              "      <th>ship_country</th>\n",
              "    </tr>\n",
              "  </thead>\n",
              "  <tbody>\n",
              "    <tr>\n",
              "      <th>0</th>\n",
              "      <td>10248</td>\n",
              "      <td>VINET</td>\n",
              "      <td>5</td>\n",
              "      <td>1996-07-04</td>\n",
              "      <td>1996-08-01</td>\n",
              "      <td>1996-07-16</td>\n",
              "      <td>3</td>\n",
              "      <td>32.38</td>\n",
              "      <td>Vins et alcools Chevalier</td>\n",
              "      <td>59 rue de l'Abbaye</td>\n",
              "      <td>Reims</td>\n",
              "      <td>None</td>\n",
              "      <td>51100</td>\n",
              "      <td>France</td>\n",
              "    </tr>\n",
              "    <tr>\n",
              "      <th>1</th>\n",
              "      <td>10249</td>\n",
              "      <td>TOMSP</td>\n",
              "      <td>6</td>\n",
              "      <td>1996-07-05</td>\n",
              "      <td>1996-08-16</td>\n",
              "      <td>1996-07-10</td>\n",
              "      <td>1</td>\n",
              "      <td>11.61</td>\n",
              "      <td>Toms Spezialitäten</td>\n",
              "      <td>Luisenstr. 48</td>\n",
              "      <td>Münster</td>\n",
              "      <td>None</td>\n",
              "      <td>44087</td>\n",
              "      <td>Germany</td>\n",
              "    </tr>\n",
              "    <tr>\n",
              "      <th>2</th>\n",
              "      <td>10250</td>\n",
              "      <td>HANAR</td>\n",
              "      <td>4</td>\n",
              "      <td>1996-07-08</td>\n",
              "      <td>1996-08-05</td>\n",
              "      <td>1996-07-12</td>\n",
              "      <td>2</td>\n",
              "      <td>65.83</td>\n",
              "      <td>Hanari Carnes</td>\n",
              "      <td>Rua do Paço, 67</td>\n",
              "      <td>Rio de Janeiro</td>\n",
              "      <td>RJ</td>\n",
              "      <td>05454-876</td>\n",
              "      <td>Brazil</td>\n",
              "    </tr>\n",
              "    <tr>\n",
              "      <th>3</th>\n",
              "      <td>10251</td>\n",
              "      <td>VICTE</td>\n",
              "      <td>3</td>\n",
              "      <td>1996-07-08</td>\n",
              "      <td>1996-08-05</td>\n",
              "      <td>1996-07-15</td>\n",
              "      <td>1</td>\n",
              "      <td>41.34</td>\n",
              "      <td>Victuailles en stock</td>\n",
              "      <td>2, rue du Commerce</td>\n",
              "      <td>Lyon</td>\n",
              "      <td>None</td>\n",
              "      <td>69004</td>\n",
              "      <td>France</td>\n",
              "    </tr>\n",
              "    <tr>\n",
              "      <th>4</th>\n",
              "      <td>10252</td>\n",
              "      <td>SUPRD</td>\n",
              "      <td>4</td>\n",
              "      <td>1996-07-09</td>\n",
              "      <td>1996-08-06</td>\n",
              "      <td>1996-07-11</td>\n",
              "      <td>2</td>\n",
              "      <td>51.30</td>\n",
              "      <td>Suprêmes délices</td>\n",
              "      <td>Boulevard Tirou, 255</td>\n",
              "      <td>Charleroi</td>\n",
              "      <td>None</td>\n",
              "      <td>B-6000</td>\n",
              "      <td>Belgium</td>\n",
              "    </tr>\n",
              "  </tbody>\n",
              "</table>\n",
              "</div>"
            ],
            "text/plain": [
              "   order_id customer_id  employee_id  ... ship_region ship_postal_code ship_country\n",
              "0     10248       VINET            5  ...        None            51100       France\n",
              "1     10249       TOMSP            6  ...        None            44087      Germany\n",
              "2     10250       HANAR            4  ...          RJ        05454-876       Brazil\n",
              "3     10251       VICTE            3  ...        None            69004       France\n",
              "4     10252       SUPRD            4  ...        None           B-6000      Belgium\n",
              "\n",
              "[5 rows x 14 columns]"
            ]
          },
          "metadata": {
            "tags": []
          },
          "execution_count": 6
        }
      ]
    },
    {
      "cell_type": "code",
      "metadata": {
        "colab": {
          "base_uri": "https://localhost:8080/",
          "height": 195
        },
        "id": "JQg89TZktvWi",
        "outputId": "4c773e15-5659-4b22-a830-49708604d9bf"
      },
      "source": [
        "df_order_details.head()"
      ],
      "execution_count": null,
      "outputs": [
        {
          "output_type": "execute_result",
          "data": {
            "text/html": [
              "<div>\n",
              "<style scoped>\n",
              "    .dataframe tbody tr th:only-of-type {\n",
              "        vertical-align: middle;\n",
              "    }\n",
              "\n",
              "    .dataframe tbody tr th {\n",
              "        vertical-align: top;\n",
              "    }\n",
              "\n",
              "    .dataframe thead th {\n",
              "        text-align: right;\n",
              "    }\n",
              "</style>\n",
              "<table border=\"1\" class=\"dataframe\">\n",
              "  <thead>\n",
              "    <tr style=\"text-align: right;\">\n",
              "      <th></th>\n",
              "      <th>order_id</th>\n",
              "      <th>product_id</th>\n",
              "      <th>unit_price</th>\n",
              "      <th>quantity</th>\n",
              "      <th>discount</th>\n",
              "    </tr>\n",
              "  </thead>\n",
              "  <tbody>\n",
              "    <tr>\n",
              "      <th>0</th>\n",
              "      <td>10248</td>\n",
              "      <td>11</td>\n",
              "      <td>14.0</td>\n",
              "      <td>12</td>\n",
              "      <td>0.0</td>\n",
              "    </tr>\n",
              "    <tr>\n",
              "      <th>1</th>\n",
              "      <td>10248</td>\n",
              "      <td>42</td>\n",
              "      <td>9.8</td>\n",
              "      <td>10</td>\n",
              "      <td>0.0</td>\n",
              "    </tr>\n",
              "    <tr>\n",
              "      <th>2</th>\n",
              "      <td>10248</td>\n",
              "      <td>72</td>\n",
              "      <td>34.8</td>\n",
              "      <td>5</td>\n",
              "      <td>0.0</td>\n",
              "    </tr>\n",
              "    <tr>\n",
              "      <th>3</th>\n",
              "      <td>10249</td>\n",
              "      <td>14</td>\n",
              "      <td>18.6</td>\n",
              "      <td>9</td>\n",
              "      <td>0.0</td>\n",
              "    </tr>\n",
              "    <tr>\n",
              "      <th>4</th>\n",
              "      <td>10249</td>\n",
              "      <td>51</td>\n",
              "      <td>42.4</td>\n",
              "      <td>40</td>\n",
              "      <td>0.0</td>\n",
              "    </tr>\n",
              "  </tbody>\n",
              "</table>\n",
              "</div>"
            ],
            "text/plain": [
              "   order_id  product_id  unit_price  quantity  discount\n",
              "0     10248          11        14.0        12       0.0\n",
              "1     10248          42         9.8        10       0.0\n",
              "2     10248          72        34.8         5       0.0\n",
              "3     10249          14        18.6         9       0.0\n",
              "4     10249          51        42.4        40       0.0"
            ]
          },
          "metadata": {
            "tags": []
          },
          "execution_count": 8
        }
      ]
    },
    {
      "cell_type": "code",
      "metadata": {
        "id": "eIU1666PuX6H"
      },
      "source": [
        "# Recency = Max(order date)\n",
        "# Frequency = count(customer id)\n",
        "# Monetary = (unit price * quantity) - discount"
      ],
      "execution_count": null,
      "outputs": []
    },
    {
      "cell_type": "code",
      "metadata": {
        "id": "vdaTLPKfu5VL"
      },
      "source": [
        "df_RFM = df_customers.merge(df_orders, left_on=\"customer_id\", right_on=\"customer_id\", how=\"inner\")"
      ],
      "execution_count": null,
      "outputs": []
    },
    {
      "cell_type": "code",
      "metadata": {
        "colab": {
          "base_uri": "https://localhost:8080/",
          "height": 299
        },
        "id": "d_OzPk8TvMbW",
        "outputId": "1e7fc855-1a75-4aa5-9d74-75f54b108fa0"
      },
      "source": [
        "df_RFM.head()"
      ],
      "execution_count": null,
      "outputs": [
        {
          "output_type": "execute_result",
          "data": {
            "text/html": [
              "<div>\n",
              "<style scoped>\n",
              "    .dataframe tbody tr th:only-of-type {\n",
              "        vertical-align: middle;\n",
              "    }\n",
              "\n",
              "    .dataframe tbody tr th {\n",
              "        vertical-align: top;\n",
              "    }\n",
              "\n",
              "    .dataframe thead th {\n",
              "        text-align: right;\n",
              "    }\n",
              "</style>\n",
              "<table border=\"1\" class=\"dataframe\">\n",
              "  <thead>\n",
              "    <tr style=\"text-align: right;\">\n",
              "      <th></th>\n",
              "      <th>customer_id</th>\n",
              "      <th>company_name</th>\n",
              "      <th>contact_name</th>\n",
              "      <th>contact_title</th>\n",
              "      <th>address</th>\n",
              "      <th>city</th>\n",
              "      <th>region</th>\n",
              "      <th>postal_code</th>\n",
              "      <th>country</th>\n",
              "      <th>phone</th>\n",
              "      <th>fax</th>\n",
              "      <th>order_id</th>\n",
              "      <th>employee_id</th>\n",
              "      <th>order_date</th>\n",
              "      <th>required_date</th>\n",
              "      <th>shipped_date</th>\n",
              "      <th>ship_via</th>\n",
              "      <th>freight</th>\n",
              "      <th>ship_name</th>\n",
              "      <th>ship_address</th>\n",
              "      <th>ship_city</th>\n",
              "      <th>ship_region</th>\n",
              "      <th>ship_postal_code</th>\n",
              "      <th>ship_country</th>\n",
              "    </tr>\n",
              "  </thead>\n",
              "  <tbody>\n",
              "    <tr>\n",
              "      <th>0</th>\n",
              "      <td>ALFKI</td>\n",
              "      <td>Alfreds Futterkiste</td>\n",
              "      <td>Maria Anders</td>\n",
              "      <td>Sales Representative</td>\n",
              "      <td>Obere Str. 57</td>\n",
              "      <td>Berlin</td>\n",
              "      <td>None</td>\n",
              "      <td>12209</td>\n",
              "      <td>Germany</td>\n",
              "      <td>030-0074321</td>\n",
              "      <td>030-0076545</td>\n",
              "      <td>10643</td>\n",
              "      <td>6</td>\n",
              "      <td>1997-08-25</td>\n",
              "      <td>1997-09-22</td>\n",
              "      <td>1997-09-02</td>\n",
              "      <td>1</td>\n",
              "      <td>29.46</td>\n",
              "      <td>Alfreds Futterkiste</td>\n",
              "      <td>Obere Str. 57</td>\n",
              "      <td>Berlin</td>\n",
              "      <td>None</td>\n",
              "      <td>12209</td>\n",
              "      <td>Germany</td>\n",
              "    </tr>\n",
              "    <tr>\n",
              "      <th>1</th>\n",
              "      <td>ALFKI</td>\n",
              "      <td>Alfreds Futterkiste</td>\n",
              "      <td>Maria Anders</td>\n",
              "      <td>Sales Representative</td>\n",
              "      <td>Obere Str. 57</td>\n",
              "      <td>Berlin</td>\n",
              "      <td>None</td>\n",
              "      <td>12209</td>\n",
              "      <td>Germany</td>\n",
              "      <td>030-0074321</td>\n",
              "      <td>030-0076545</td>\n",
              "      <td>10692</td>\n",
              "      <td>4</td>\n",
              "      <td>1997-10-03</td>\n",
              "      <td>1997-10-31</td>\n",
              "      <td>1997-10-13</td>\n",
              "      <td>2</td>\n",
              "      <td>61.02</td>\n",
              "      <td>Alfred's Futterkiste</td>\n",
              "      <td>Obere Str. 57</td>\n",
              "      <td>Berlin</td>\n",
              "      <td>None</td>\n",
              "      <td>12209</td>\n",
              "      <td>Germany</td>\n",
              "    </tr>\n",
              "    <tr>\n",
              "      <th>2</th>\n",
              "      <td>ALFKI</td>\n",
              "      <td>Alfreds Futterkiste</td>\n",
              "      <td>Maria Anders</td>\n",
              "      <td>Sales Representative</td>\n",
              "      <td>Obere Str. 57</td>\n",
              "      <td>Berlin</td>\n",
              "      <td>None</td>\n",
              "      <td>12209</td>\n",
              "      <td>Germany</td>\n",
              "      <td>030-0074321</td>\n",
              "      <td>030-0076545</td>\n",
              "      <td>10702</td>\n",
              "      <td>4</td>\n",
              "      <td>1997-10-13</td>\n",
              "      <td>1997-11-24</td>\n",
              "      <td>1997-10-21</td>\n",
              "      <td>1</td>\n",
              "      <td>23.94</td>\n",
              "      <td>Alfred's Futterkiste</td>\n",
              "      <td>Obere Str. 57</td>\n",
              "      <td>Berlin</td>\n",
              "      <td>None</td>\n",
              "      <td>12209</td>\n",
              "      <td>Germany</td>\n",
              "    </tr>\n",
              "    <tr>\n",
              "      <th>3</th>\n",
              "      <td>ALFKI</td>\n",
              "      <td>Alfreds Futterkiste</td>\n",
              "      <td>Maria Anders</td>\n",
              "      <td>Sales Representative</td>\n",
              "      <td>Obere Str. 57</td>\n",
              "      <td>Berlin</td>\n",
              "      <td>None</td>\n",
              "      <td>12209</td>\n",
              "      <td>Germany</td>\n",
              "      <td>030-0074321</td>\n",
              "      <td>030-0076545</td>\n",
              "      <td>10835</td>\n",
              "      <td>1</td>\n",
              "      <td>1998-01-15</td>\n",
              "      <td>1998-02-12</td>\n",
              "      <td>1998-01-21</td>\n",
              "      <td>3</td>\n",
              "      <td>69.53</td>\n",
              "      <td>Alfred's Futterkiste</td>\n",
              "      <td>Obere Str. 57</td>\n",
              "      <td>Berlin</td>\n",
              "      <td>None</td>\n",
              "      <td>12209</td>\n",
              "      <td>Germany</td>\n",
              "    </tr>\n",
              "    <tr>\n",
              "      <th>4</th>\n",
              "      <td>ALFKI</td>\n",
              "      <td>Alfreds Futterkiste</td>\n",
              "      <td>Maria Anders</td>\n",
              "      <td>Sales Representative</td>\n",
              "      <td>Obere Str. 57</td>\n",
              "      <td>Berlin</td>\n",
              "      <td>None</td>\n",
              "      <td>12209</td>\n",
              "      <td>Germany</td>\n",
              "      <td>030-0074321</td>\n",
              "      <td>030-0076545</td>\n",
              "      <td>10952</td>\n",
              "      <td>1</td>\n",
              "      <td>1998-03-16</td>\n",
              "      <td>1998-04-27</td>\n",
              "      <td>1998-03-24</td>\n",
              "      <td>1</td>\n",
              "      <td>40.42</td>\n",
              "      <td>Alfred's Futterkiste</td>\n",
              "      <td>Obere Str. 57</td>\n",
              "      <td>Berlin</td>\n",
              "      <td>None</td>\n",
              "      <td>12209</td>\n",
              "      <td>Germany</td>\n",
              "    </tr>\n",
              "  </tbody>\n",
              "</table>\n",
              "</div>"
            ],
            "text/plain": [
              "  customer_id         company_name  ... ship_postal_code ship_country\n",
              "0       ALFKI  Alfreds Futterkiste  ...            12209      Germany\n",
              "1       ALFKI  Alfreds Futterkiste  ...            12209      Germany\n",
              "2       ALFKI  Alfreds Futterkiste  ...            12209      Germany\n",
              "3       ALFKI  Alfreds Futterkiste  ...            12209      Germany\n",
              "4       ALFKI  Alfreds Futterkiste  ...            12209      Germany\n",
              "\n",
              "[5 rows x 24 columns]"
            ]
          },
          "metadata": {
            "tags": []
          },
          "execution_count": 11
        }
      ]
    },
    {
      "cell_type": "code",
      "metadata": {
        "id": "QMHntLEDvOYF"
      },
      "source": [
        "df_RFM = df_RFM.merge(df_order_details, left_on=\"order_id\", right_on=\"order_id\", how=\"inner\")"
      ],
      "execution_count": null,
      "outputs": []
    },
    {
      "cell_type": "markdown",
      "metadata": {
        "id": "vHSFjY8vvx6l"
      },
      "source": [
        "# Join customers >< orders >< order_details"
      ]
    },
    {
      "cell_type": "code",
      "metadata": {
        "colab": {
          "base_uri": "https://localhost:8080/",
          "height": 299
        },
        "id": "QXVxpV9fvfOB",
        "outputId": "1f59cebb-e1fd-47e4-c081-9188d6997fa0"
      },
      "source": [
        "df_RFM.head()"
      ],
      "execution_count": null,
      "outputs": [
        {
          "output_type": "execute_result",
          "data": {
            "text/html": [
              "<div>\n",
              "<style scoped>\n",
              "    .dataframe tbody tr th:only-of-type {\n",
              "        vertical-align: middle;\n",
              "    }\n",
              "\n",
              "    .dataframe tbody tr th {\n",
              "        vertical-align: top;\n",
              "    }\n",
              "\n",
              "    .dataframe thead th {\n",
              "        text-align: right;\n",
              "    }\n",
              "</style>\n",
              "<table border=\"1\" class=\"dataframe\">\n",
              "  <thead>\n",
              "    <tr style=\"text-align: right;\">\n",
              "      <th></th>\n",
              "      <th>customer_id</th>\n",
              "      <th>company_name</th>\n",
              "      <th>contact_name</th>\n",
              "      <th>contact_title</th>\n",
              "      <th>address</th>\n",
              "      <th>city</th>\n",
              "      <th>region</th>\n",
              "      <th>postal_code</th>\n",
              "      <th>country</th>\n",
              "      <th>phone</th>\n",
              "      <th>fax</th>\n",
              "      <th>order_id</th>\n",
              "      <th>employee_id</th>\n",
              "      <th>order_date</th>\n",
              "      <th>required_date</th>\n",
              "      <th>shipped_date</th>\n",
              "      <th>ship_via</th>\n",
              "      <th>freight</th>\n",
              "      <th>ship_name</th>\n",
              "      <th>ship_address</th>\n",
              "      <th>ship_city</th>\n",
              "      <th>ship_region</th>\n",
              "      <th>ship_postal_code</th>\n",
              "      <th>ship_country</th>\n",
              "      <th>product_id</th>\n",
              "      <th>unit_price</th>\n",
              "      <th>quantity</th>\n",
              "      <th>discount</th>\n",
              "    </tr>\n",
              "  </thead>\n",
              "  <tbody>\n",
              "    <tr>\n",
              "      <th>0</th>\n",
              "      <td>ALFKI</td>\n",
              "      <td>Alfreds Futterkiste</td>\n",
              "      <td>Maria Anders</td>\n",
              "      <td>Sales Representative</td>\n",
              "      <td>Obere Str. 57</td>\n",
              "      <td>Berlin</td>\n",
              "      <td>None</td>\n",
              "      <td>12209</td>\n",
              "      <td>Germany</td>\n",
              "      <td>030-0074321</td>\n",
              "      <td>030-0076545</td>\n",
              "      <td>10643</td>\n",
              "      <td>6</td>\n",
              "      <td>1997-08-25</td>\n",
              "      <td>1997-09-22</td>\n",
              "      <td>1997-09-02</td>\n",
              "      <td>1</td>\n",
              "      <td>29.46</td>\n",
              "      <td>Alfreds Futterkiste</td>\n",
              "      <td>Obere Str. 57</td>\n",
              "      <td>Berlin</td>\n",
              "      <td>None</td>\n",
              "      <td>12209</td>\n",
              "      <td>Germany</td>\n",
              "      <td>28</td>\n",
              "      <td>45.6</td>\n",
              "      <td>15</td>\n",
              "      <td>0.25</td>\n",
              "    </tr>\n",
              "    <tr>\n",
              "      <th>1</th>\n",
              "      <td>ALFKI</td>\n",
              "      <td>Alfreds Futterkiste</td>\n",
              "      <td>Maria Anders</td>\n",
              "      <td>Sales Representative</td>\n",
              "      <td>Obere Str. 57</td>\n",
              "      <td>Berlin</td>\n",
              "      <td>None</td>\n",
              "      <td>12209</td>\n",
              "      <td>Germany</td>\n",
              "      <td>030-0074321</td>\n",
              "      <td>030-0076545</td>\n",
              "      <td>10643</td>\n",
              "      <td>6</td>\n",
              "      <td>1997-08-25</td>\n",
              "      <td>1997-09-22</td>\n",
              "      <td>1997-09-02</td>\n",
              "      <td>1</td>\n",
              "      <td>29.46</td>\n",
              "      <td>Alfreds Futterkiste</td>\n",
              "      <td>Obere Str. 57</td>\n",
              "      <td>Berlin</td>\n",
              "      <td>None</td>\n",
              "      <td>12209</td>\n",
              "      <td>Germany</td>\n",
              "      <td>39</td>\n",
              "      <td>18.0</td>\n",
              "      <td>21</td>\n",
              "      <td>0.25</td>\n",
              "    </tr>\n",
              "    <tr>\n",
              "      <th>2</th>\n",
              "      <td>ALFKI</td>\n",
              "      <td>Alfreds Futterkiste</td>\n",
              "      <td>Maria Anders</td>\n",
              "      <td>Sales Representative</td>\n",
              "      <td>Obere Str. 57</td>\n",
              "      <td>Berlin</td>\n",
              "      <td>None</td>\n",
              "      <td>12209</td>\n",
              "      <td>Germany</td>\n",
              "      <td>030-0074321</td>\n",
              "      <td>030-0076545</td>\n",
              "      <td>10643</td>\n",
              "      <td>6</td>\n",
              "      <td>1997-08-25</td>\n",
              "      <td>1997-09-22</td>\n",
              "      <td>1997-09-02</td>\n",
              "      <td>1</td>\n",
              "      <td>29.46</td>\n",
              "      <td>Alfreds Futterkiste</td>\n",
              "      <td>Obere Str. 57</td>\n",
              "      <td>Berlin</td>\n",
              "      <td>None</td>\n",
              "      <td>12209</td>\n",
              "      <td>Germany</td>\n",
              "      <td>46</td>\n",
              "      <td>12.0</td>\n",
              "      <td>2</td>\n",
              "      <td>0.25</td>\n",
              "    </tr>\n",
              "    <tr>\n",
              "      <th>3</th>\n",
              "      <td>ALFKI</td>\n",
              "      <td>Alfreds Futterkiste</td>\n",
              "      <td>Maria Anders</td>\n",
              "      <td>Sales Representative</td>\n",
              "      <td>Obere Str. 57</td>\n",
              "      <td>Berlin</td>\n",
              "      <td>None</td>\n",
              "      <td>12209</td>\n",
              "      <td>Germany</td>\n",
              "      <td>030-0074321</td>\n",
              "      <td>030-0076545</td>\n",
              "      <td>10692</td>\n",
              "      <td>4</td>\n",
              "      <td>1997-10-03</td>\n",
              "      <td>1997-10-31</td>\n",
              "      <td>1997-10-13</td>\n",
              "      <td>2</td>\n",
              "      <td>61.02</td>\n",
              "      <td>Alfred's Futterkiste</td>\n",
              "      <td>Obere Str. 57</td>\n",
              "      <td>Berlin</td>\n",
              "      <td>None</td>\n",
              "      <td>12209</td>\n",
              "      <td>Germany</td>\n",
              "      <td>63</td>\n",
              "      <td>43.9</td>\n",
              "      <td>20</td>\n",
              "      <td>0.00</td>\n",
              "    </tr>\n",
              "    <tr>\n",
              "      <th>4</th>\n",
              "      <td>ALFKI</td>\n",
              "      <td>Alfreds Futterkiste</td>\n",
              "      <td>Maria Anders</td>\n",
              "      <td>Sales Representative</td>\n",
              "      <td>Obere Str. 57</td>\n",
              "      <td>Berlin</td>\n",
              "      <td>None</td>\n",
              "      <td>12209</td>\n",
              "      <td>Germany</td>\n",
              "      <td>030-0074321</td>\n",
              "      <td>030-0076545</td>\n",
              "      <td>10702</td>\n",
              "      <td>4</td>\n",
              "      <td>1997-10-13</td>\n",
              "      <td>1997-11-24</td>\n",
              "      <td>1997-10-21</td>\n",
              "      <td>1</td>\n",
              "      <td>23.94</td>\n",
              "      <td>Alfred's Futterkiste</td>\n",
              "      <td>Obere Str. 57</td>\n",
              "      <td>Berlin</td>\n",
              "      <td>None</td>\n",
              "      <td>12209</td>\n",
              "      <td>Germany</td>\n",
              "      <td>3</td>\n",
              "      <td>10.0</td>\n",
              "      <td>6</td>\n",
              "      <td>0.00</td>\n",
              "    </tr>\n",
              "  </tbody>\n",
              "</table>\n",
              "</div>"
            ],
            "text/plain": [
              "  customer_id         company_name  ... quantity discount\n",
              "0       ALFKI  Alfreds Futterkiste  ...       15     0.25\n",
              "1       ALFKI  Alfreds Futterkiste  ...       21     0.25\n",
              "2       ALFKI  Alfreds Futterkiste  ...        2     0.25\n",
              "3       ALFKI  Alfreds Futterkiste  ...       20     0.00\n",
              "4       ALFKI  Alfreds Futterkiste  ...        6     0.00\n",
              "\n",
              "[5 rows x 28 columns]"
            ]
          },
          "metadata": {
            "tags": []
          },
          "execution_count": 13
        }
      ]
    },
    {
      "cell_type": "markdown",
      "metadata": {
        "id": "nKdbMgnUw6Z0"
      },
      "source": [
        "# Feature Engineering -> Extract R, F, M"
      ]
    },
    {
      "cell_type": "code",
      "metadata": {
        "id": "qj_thAxZvsah"
      },
      "source": [
        "df_features = pd.DataFrame(df_RFM.groupby(\"customer_id\")[\"order_date\"].max())"
      ],
      "execution_count": null,
      "outputs": []
    },
    {
      "cell_type": "code",
      "metadata": {
        "colab": {
          "base_uri": "https://localhost:8080/",
          "height": 195
        },
        "id": "Fi6_31ytxLFp",
        "outputId": "6b0a6f49-532f-4144-ac2f-43fd47304162"
      },
      "source": [
        "df_features.head()"
      ],
      "execution_count": null,
      "outputs": [
        {
          "output_type": "execute_result",
          "data": {
            "text/html": [
              "<div>\n",
              "<style scoped>\n",
              "    .dataframe tbody tr th:only-of-type {\n",
              "        vertical-align: middle;\n",
              "    }\n",
              "\n",
              "    .dataframe tbody tr th {\n",
              "        vertical-align: top;\n",
              "    }\n",
              "\n",
              "    .dataframe thead th {\n",
              "        text-align: right;\n",
              "    }\n",
              "</style>\n",
              "<table border=\"1\" class=\"dataframe\">\n",
              "  <thead>\n",
              "    <tr style=\"text-align: right;\">\n",
              "      <th></th>\n",
              "      <th>customer_id</th>\n",
              "      <th>order_date</th>\n",
              "    </tr>\n",
              "  </thead>\n",
              "  <tbody>\n",
              "    <tr>\n",
              "      <th>0</th>\n",
              "      <td>ALFKI</td>\n",
              "      <td>1998-04-09</td>\n",
              "    </tr>\n",
              "    <tr>\n",
              "      <th>1</th>\n",
              "      <td>ANATR</td>\n",
              "      <td>1998-03-04</td>\n",
              "    </tr>\n",
              "    <tr>\n",
              "      <th>2</th>\n",
              "      <td>ANTON</td>\n",
              "      <td>1998-01-28</td>\n",
              "    </tr>\n",
              "    <tr>\n",
              "      <th>3</th>\n",
              "      <td>AROUT</td>\n",
              "      <td>1998-04-10</td>\n",
              "    </tr>\n",
              "    <tr>\n",
              "      <th>4</th>\n",
              "      <td>BERGS</td>\n",
              "      <td>1998-03-04</td>\n",
              "    </tr>\n",
              "  </tbody>\n",
              "</table>\n",
              "</div>"
            ],
            "text/plain": [
              "  customer_id  order_date\n",
              "0       ALFKI  1998-04-09\n",
              "1       ANATR  1998-03-04\n",
              "2       ANTON  1998-01-28\n",
              "3       AROUT  1998-04-10\n",
              "4       BERGS  1998-03-04"
            ]
          },
          "metadata": {
            "tags": []
          },
          "execution_count": 19
        }
      ]
    },
    {
      "cell_type": "code",
      "metadata": {
        "id": "Xb4T3iGMxR3T"
      },
      "source": [
        "df_features = df_features.reset_index()"
      ],
      "execution_count": null,
      "outputs": []
    },
    {
      "cell_type": "code",
      "metadata": {
        "colab": {
          "base_uri": "https://localhost:8080/",
          "height": 195
        },
        "id": "A-kwvo4wxknE",
        "outputId": "d7feae9a-cf7f-4aee-ef65-c307a9dc8a1c"
      },
      "source": [
        "df_features.head()"
      ],
      "execution_count": null,
      "outputs": [
        {
          "output_type": "execute_result",
          "data": {
            "text/html": [
              "<div>\n",
              "<style scoped>\n",
              "    .dataframe tbody tr th:only-of-type {\n",
              "        vertical-align: middle;\n",
              "    }\n",
              "\n",
              "    .dataframe tbody tr th {\n",
              "        vertical-align: top;\n",
              "    }\n",
              "\n",
              "    .dataframe thead th {\n",
              "        text-align: right;\n",
              "    }\n",
              "</style>\n",
              "<table border=\"1\" class=\"dataframe\">\n",
              "  <thead>\n",
              "    <tr style=\"text-align: right;\">\n",
              "      <th></th>\n",
              "      <th>customer_id</th>\n",
              "      <th>order_date</th>\n",
              "    </tr>\n",
              "  </thead>\n",
              "  <tbody>\n",
              "    <tr>\n",
              "      <th>0</th>\n",
              "      <td>ALFKI</td>\n",
              "      <td>1998-04-09</td>\n",
              "    </tr>\n",
              "    <tr>\n",
              "      <th>1</th>\n",
              "      <td>ANATR</td>\n",
              "      <td>1998-03-04</td>\n",
              "    </tr>\n",
              "    <tr>\n",
              "      <th>2</th>\n",
              "      <td>ANTON</td>\n",
              "      <td>1998-01-28</td>\n",
              "    </tr>\n",
              "    <tr>\n",
              "      <th>3</th>\n",
              "      <td>AROUT</td>\n",
              "      <td>1998-04-10</td>\n",
              "    </tr>\n",
              "    <tr>\n",
              "      <th>4</th>\n",
              "      <td>BERGS</td>\n",
              "      <td>1998-03-04</td>\n",
              "    </tr>\n",
              "  </tbody>\n",
              "</table>\n",
              "</div>"
            ],
            "text/plain": [
              "  customer_id  order_date\n",
              "0       ALFKI  1998-04-09\n",
              "1       ANATR  1998-03-04\n",
              "2       ANTON  1998-01-28\n",
              "3       AROUT  1998-04-10\n",
              "4       BERGS  1998-03-04"
            ]
          },
          "metadata": {
            "tags": []
          },
          "execution_count": 20
        }
      ]
    },
    {
      "cell_type": "markdown",
      "metadata": {
        "id": "wFA95t3VzJ66"
      },
      "source": [
        "## Recency"
      ]
    },
    {
      "cell_type": "code",
      "metadata": {
        "id": "e8rc4IkZxpzo"
      },
      "source": [
        "df_features[\"recency\"] = df_features.apply(lambda x:pd.to_datetime(\"1999-01-01\") - pd.to_datetime(x[\"order_date\"]), axis=1 )"
      ],
      "execution_count": null,
      "outputs": []
    },
    {
      "cell_type": "code",
      "metadata": {
        "id": "JLqlfLkcyaIj"
      },
      "source": [
        "df_features[\"recency\"] = df_features.recency.dt.days"
      ],
      "execution_count": null,
      "outputs": []
    },
    {
      "cell_type": "code",
      "metadata": {
        "colab": {
          "base_uri": "https://localhost:8080/",
          "height": 195
        },
        "id": "vgVvSD9vypRn",
        "outputId": "140e15ef-e66d-46c0-f8b7-7d23fd8ac272"
      },
      "source": [
        "df_features.head()"
      ],
      "execution_count": null,
      "outputs": [
        {
          "output_type": "execute_result",
          "data": {
            "text/html": [
              "<div>\n",
              "<style scoped>\n",
              "    .dataframe tbody tr th:only-of-type {\n",
              "        vertical-align: middle;\n",
              "    }\n",
              "\n",
              "    .dataframe tbody tr th {\n",
              "        vertical-align: top;\n",
              "    }\n",
              "\n",
              "    .dataframe thead th {\n",
              "        text-align: right;\n",
              "    }\n",
              "</style>\n",
              "<table border=\"1\" class=\"dataframe\">\n",
              "  <thead>\n",
              "    <tr style=\"text-align: right;\">\n",
              "      <th></th>\n",
              "      <th>customer_id</th>\n",
              "      <th>order_date</th>\n",
              "      <th>recency</th>\n",
              "    </tr>\n",
              "  </thead>\n",
              "  <tbody>\n",
              "    <tr>\n",
              "      <th>0</th>\n",
              "      <td>ALFKI</td>\n",
              "      <td>1998-04-09</td>\n",
              "      <td>267</td>\n",
              "    </tr>\n",
              "    <tr>\n",
              "      <th>1</th>\n",
              "      <td>ANATR</td>\n",
              "      <td>1998-03-04</td>\n",
              "      <td>303</td>\n",
              "    </tr>\n",
              "    <tr>\n",
              "      <th>2</th>\n",
              "      <td>ANTON</td>\n",
              "      <td>1998-01-28</td>\n",
              "      <td>338</td>\n",
              "    </tr>\n",
              "    <tr>\n",
              "      <th>3</th>\n",
              "      <td>AROUT</td>\n",
              "      <td>1998-04-10</td>\n",
              "      <td>266</td>\n",
              "    </tr>\n",
              "    <tr>\n",
              "      <th>4</th>\n",
              "      <td>BERGS</td>\n",
              "      <td>1998-03-04</td>\n",
              "      <td>303</td>\n",
              "    </tr>\n",
              "  </tbody>\n",
              "</table>\n",
              "</div>"
            ],
            "text/plain": [
              "  customer_id  order_date  recency\n",
              "0       ALFKI  1998-04-09      267\n",
              "1       ANATR  1998-03-04      303\n",
              "2       ANTON  1998-01-28      338\n",
              "3       AROUT  1998-04-10      266\n",
              "4       BERGS  1998-03-04      303"
            ]
          },
          "metadata": {
            "tags": []
          },
          "execution_count": 29
        }
      ]
    },
    {
      "cell_type": "markdown",
      "metadata": {
        "id": "sEyD9Eg5zNWH"
      },
      "source": [
        "## Frequency"
      ]
    },
    {
      "cell_type": "code",
      "metadata": {
        "colab": {
          "base_uri": "https://localhost:8080/"
        },
        "id": "q_V3_uKrzFHp",
        "outputId": "d7db9a26-bcf8-4f07-8229-5b7cf7a35aa7"
      },
      "source": [
        "df_RFM.groupby(by=\"customer_id\")[\"customer_id\"].count()"
      ],
      "execution_count": null,
      "outputs": [
        {
          "output_type": "execute_result",
          "data": {
            "text/plain": [
              "customer_id\n",
              "ALFKI    12\n",
              "ANATR    10\n",
              "ANTON    17\n",
              "AROUT    30\n",
              "BERGS    52\n",
              "         ..\n",
              "WARTH    37\n",
              "WELLI    19\n",
              "WHITC    40\n",
              "WILMK    17\n",
              "WOLZA    16\n",
              "Name: customer_id, Length: 89, dtype: int64"
            ]
          },
          "metadata": {
            "tags": []
          },
          "execution_count": 30
        }
      ]
    },
    {
      "cell_type": "code",
      "metadata": {
        "id": "NKxYk1z7zn8K"
      },
      "source": [
        "df_temp_frequency = pd.DataFrame(df_RFM.groupby(by=\"customer_id\")[\"order_id\"].count())"
      ],
      "execution_count": null,
      "outputs": []
    },
    {
      "cell_type": "code",
      "metadata": {
        "id": "MSbBZx-10CLV"
      },
      "source": [
        "df_features = df_features.merge(df_temp_frequency, left_on=\"customer_id\", right_on=\"customer_id\", how=\"inner\")"
      ],
      "execution_count": null,
      "outputs": []
    },
    {
      "cell_type": "code",
      "metadata": {
        "colab": {
          "base_uri": "https://localhost:8080/",
          "height": 402
        },
        "id": "qSLvfYhp0VAd",
        "outputId": "c07775ce-230b-4a77-8f17-4a3af9075fbc"
      },
      "source": [
        "df_features.frequency = df_features.order_id\n",
        "del df_features[\"order_id\"]\n",
        "df_features"
      ],
      "execution_count": null,
      "outputs": [
        {
          "output_type": "execute_result",
          "data": {
            "text/html": [
              "<div>\n",
              "<style scoped>\n",
              "    .dataframe tbody tr th:only-of-type {\n",
              "        vertical-align: middle;\n",
              "    }\n",
              "\n",
              "    .dataframe tbody tr th {\n",
              "        vertical-align: top;\n",
              "    }\n",
              "\n",
              "    .dataframe thead th {\n",
              "        text-align: right;\n",
              "    }\n",
              "</style>\n",
              "<table border=\"1\" class=\"dataframe\">\n",
              "  <thead>\n",
              "    <tr style=\"text-align: right;\">\n",
              "      <th></th>\n",
              "      <th>customer_id</th>\n",
              "      <th>order_date</th>\n",
              "      <th>recency</th>\n",
              "      <th>frequency</th>\n",
              "    </tr>\n",
              "  </thead>\n",
              "  <tbody>\n",
              "    <tr>\n",
              "      <th>0</th>\n",
              "      <td>ALFKI</td>\n",
              "      <td>1998-04-09</td>\n",
              "      <td>267</td>\n",
              "      <td>12</td>\n",
              "    </tr>\n",
              "    <tr>\n",
              "      <th>1</th>\n",
              "      <td>ANATR</td>\n",
              "      <td>1998-03-04</td>\n",
              "      <td>303</td>\n",
              "      <td>10</td>\n",
              "    </tr>\n",
              "    <tr>\n",
              "      <th>2</th>\n",
              "      <td>ANTON</td>\n",
              "      <td>1998-01-28</td>\n",
              "      <td>338</td>\n",
              "      <td>17</td>\n",
              "    </tr>\n",
              "    <tr>\n",
              "      <th>3</th>\n",
              "      <td>AROUT</td>\n",
              "      <td>1998-04-10</td>\n",
              "      <td>266</td>\n",
              "      <td>30</td>\n",
              "    </tr>\n",
              "    <tr>\n",
              "      <th>4</th>\n",
              "      <td>BERGS</td>\n",
              "      <td>1998-03-04</td>\n",
              "      <td>303</td>\n",
              "      <td>52</td>\n",
              "    </tr>\n",
              "    <tr>\n",
              "      <th>...</th>\n",
              "      <td>...</td>\n",
              "      <td>...</td>\n",
              "      <td>...</td>\n",
              "      <td>...</td>\n",
              "    </tr>\n",
              "    <tr>\n",
              "      <th>84</th>\n",
              "      <td>WARTH</td>\n",
              "      <td>1998-04-15</td>\n",
              "      <td>261</td>\n",
              "      <td>37</td>\n",
              "    </tr>\n",
              "    <tr>\n",
              "      <th>85</th>\n",
              "      <td>WELLI</td>\n",
              "      <td>1998-03-09</td>\n",
              "      <td>298</td>\n",
              "      <td>19</td>\n",
              "    </tr>\n",
              "    <tr>\n",
              "      <th>86</th>\n",
              "      <td>WHITC</td>\n",
              "      <td>1998-05-01</td>\n",
              "      <td>245</td>\n",
              "      <td>40</td>\n",
              "    </tr>\n",
              "    <tr>\n",
              "      <th>87</th>\n",
              "      <td>WILMK</td>\n",
              "      <td>1998-04-07</td>\n",
              "      <td>269</td>\n",
              "      <td>17</td>\n",
              "    </tr>\n",
              "    <tr>\n",
              "      <th>88</th>\n",
              "      <td>WOLZA</td>\n",
              "      <td>1998-04-23</td>\n",
              "      <td>253</td>\n",
              "      <td>16</td>\n",
              "    </tr>\n",
              "  </tbody>\n",
              "</table>\n",
              "<p>89 rows × 4 columns</p>\n",
              "</div>"
            ],
            "text/plain": [
              "   customer_id  order_date  recency  frequency\n",
              "0        ALFKI  1998-04-09      267         12\n",
              "1        ANATR  1998-03-04      303         10\n",
              "2        ANTON  1998-01-28      338         17\n",
              "3        AROUT  1998-04-10      266         30\n",
              "4        BERGS  1998-03-04      303         52\n",
              "..         ...         ...      ...        ...\n",
              "84       WARTH  1998-04-15      261         37\n",
              "85       WELLI  1998-03-09      298         19\n",
              "86       WHITC  1998-05-01      245         40\n",
              "87       WILMK  1998-04-07      269         17\n",
              "88       WOLZA  1998-04-23      253         16\n",
              "\n",
              "[89 rows x 4 columns]"
            ]
          },
          "metadata": {
            "tags": []
          },
          "execution_count": 48
        }
      ]
    },
    {
      "cell_type": "markdown",
      "metadata": {
        "id": "4mEhPTYx07-u"
      },
      "source": [
        "## Monetary"
      ]
    },
    {
      "cell_type": "code",
      "metadata": {
        "id": "L4TDm6k00o4Q"
      },
      "source": [
        "df_RFM[\"monetary_temp\"] = (df_RFM[\"unit_price\"] * df_RFM[\"quantity\"]) - df_RFM[\"discount\"]"
      ],
      "execution_count": null,
      "outputs": []
    },
    {
      "cell_type": "code",
      "metadata": {
        "id": "NYINSGYD1W2F"
      },
      "source": [
        "df_temp_monetary = pd.DataFrame(df_RFM.groupby(\"customer_id\")[\"monetary_temp\"].sum()).reset_index()"
      ],
      "execution_count": null,
      "outputs": []
    },
    {
      "cell_type": "code",
      "metadata": {
        "colab": {
          "base_uri": "https://localhost:8080/",
          "height": 195
        },
        "id": "_KiU6YCS1w-E",
        "outputId": "3cbb999e-b0f8-4815-ec27-415141ea40f0"
      },
      "source": [
        "df_temp_monetary.head()"
      ],
      "execution_count": null,
      "outputs": [
        {
          "output_type": "execute_result",
          "data": {
            "text/html": [
              "<div>\n",
              "<style scoped>\n",
              "    .dataframe tbody tr th:only-of-type {\n",
              "        vertical-align: middle;\n",
              "    }\n",
              "\n",
              "    .dataframe tbody tr th {\n",
              "        vertical-align: top;\n",
              "    }\n",
              "\n",
              "    .dataframe thead th {\n",
              "        text-align: right;\n",
              "    }\n",
              "</style>\n",
              "<table border=\"1\" class=\"dataframe\">\n",
              "  <thead>\n",
              "    <tr style=\"text-align: right;\">\n",
              "      <th></th>\n",
              "      <th>customer_id</th>\n",
              "      <th>monetary_temp</th>\n",
              "    </tr>\n",
              "  </thead>\n",
              "  <tbody>\n",
              "    <tr>\n",
              "      <th>0</th>\n",
              "      <td>ALFKI</td>\n",
              "      <td>4595.15</td>\n",
              "    </tr>\n",
              "    <tr>\n",
              "      <th>1</th>\n",
              "      <td>ANATR</td>\n",
              "      <td>1402.95</td>\n",
              "    </tr>\n",
              "    <tr>\n",
              "      <th>2</th>\n",
              "      <td>ANTON</td>\n",
              "      <td>7514.35</td>\n",
              "    </tr>\n",
              "    <tr>\n",
              "      <th>3</th>\n",
              "      <td>AROUT</td>\n",
              "      <td>13805.80</td>\n",
              "    </tr>\n",
              "    <tr>\n",
              "      <th>4</th>\n",
              "      <td>BERGS</td>\n",
              "      <td>26965.15</td>\n",
              "    </tr>\n",
              "  </tbody>\n",
              "</table>\n",
              "</div>"
            ],
            "text/plain": [
              "  customer_id  monetary_temp\n",
              "0       ALFKI        4595.15\n",
              "1       ANATR        1402.95\n",
              "2       ANTON        7514.35\n",
              "3       AROUT       13805.80\n",
              "4       BERGS       26965.15"
            ]
          },
          "metadata": {
            "tags": []
          },
          "execution_count": 58
        }
      ]
    },
    {
      "cell_type": "code",
      "metadata": {
        "id": "9efoI3Oo16tr"
      },
      "source": [
        "df_features =  df_features.merge(df_temp_monetary, left_on=\"customer_id\", right_on=\"customer_id\", how=\"inner\")"
      ],
      "execution_count": null,
      "outputs": []
    },
    {
      "cell_type": "code",
      "metadata": {
        "id": "YZpHGhd52DCN"
      },
      "source": [
        "df_features.columns = [\"customer_id\",\t\"order_date\",\t\"recency\",\t\"frequency\",\t\"monetary\"]"
      ],
      "execution_count": null,
      "outputs": []
    },
    {
      "cell_type": "code",
      "metadata": {
        "colab": {
          "base_uri": "https://localhost:8080/",
          "height": 195
        },
        "id": "iwPOzDpJ2EZB",
        "outputId": "241bb9d4-e3ee-4380-9904-2c856a69f0f8"
      },
      "source": [
        "df_features.head()"
      ],
      "execution_count": null,
      "outputs": [
        {
          "output_type": "execute_result",
          "data": {
            "text/html": [
              "<div>\n",
              "<style scoped>\n",
              "    .dataframe tbody tr th:only-of-type {\n",
              "        vertical-align: middle;\n",
              "    }\n",
              "\n",
              "    .dataframe tbody tr th {\n",
              "        vertical-align: top;\n",
              "    }\n",
              "\n",
              "    .dataframe thead th {\n",
              "        text-align: right;\n",
              "    }\n",
              "</style>\n",
              "<table border=\"1\" class=\"dataframe\">\n",
              "  <thead>\n",
              "    <tr style=\"text-align: right;\">\n",
              "      <th></th>\n",
              "      <th>customer_id</th>\n",
              "      <th>order_date</th>\n",
              "      <th>recency</th>\n",
              "      <th>frequency</th>\n",
              "      <th>monetary</th>\n",
              "    </tr>\n",
              "  </thead>\n",
              "  <tbody>\n",
              "    <tr>\n",
              "      <th>0</th>\n",
              "      <td>ALFKI</td>\n",
              "      <td>1998-04-09</td>\n",
              "      <td>267</td>\n",
              "      <td>12</td>\n",
              "      <td>4595.15</td>\n",
              "    </tr>\n",
              "    <tr>\n",
              "      <th>1</th>\n",
              "      <td>ANATR</td>\n",
              "      <td>1998-03-04</td>\n",
              "      <td>303</td>\n",
              "      <td>10</td>\n",
              "      <td>1402.95</td>\n",
              "    </tr>\n",
              "    <tr>\n",
              "      <th>2</th>\n",
              "      <td>ANTON</td>\n",
              "      <td>1998-01-28</td>\n",
              "      <td>338</td>\n",
              "      <td>17</td>\n",
              "      <td>7514.35</td>\n",
              "    </tr>\n",
              "    <tr>\n",
              "      <th>3</th>\n",
              "      <td>AROUT</td>\n",
              "      <td>1998-04-10</td>\n",
              "      <td>266</td>\n",
              "      <td>30</td>\n",
              "      <td>13805.80</td>\n",
              "    </tr>\n",
              "    <tr>\n",
              "      <th>4</th>\n",
              "      <td>BERGS</td>\n",
              "      <td>1998-03-04</td>\n",
              "      <td>303</td>\n",
              "      <td>52</td>\n",
              "      <td>26965.15</td>\n",
              "    </tr>\n",
              "  </tbody>\n",
              "</table>\n",
              "</div>"
            ],
            "text/plain": [
              "  customer_id  order_date  recency  frequency  monetary\n",
              "0       ALFKI  1998-04-09      267         12   4595.15\n",
              "1       ANATR  1998-03-04      303         10   1402.95\n",
              "2       ANTON  1998-01-28      338         17   7514.35\n",
              "3       AROUT  1998-04-10      266         30  13805.80\n",
              "4       BERGS  1998-03-04      303         52  26965.15"
            ]
          },
          "metadata": {
            "tags": []
          },
          "execution_count": 62
        }
      ]
    },
    {
      "cell_type": "markdown",
      "metadata": {
        "id": "KeDmEV3f5vWL"
      },
      "source": [
        "# Binning"
      ]
    },
    {
      "cell_type": "code",
      "metadata": {
        "colab": {
          "base_uri": "https://localhost:8080/"
        },
        "id": "vIWQY9mI2SiZ",
        "outputId": "34170b44-4a6f-48f4-f0c5-9ae9ba9d6df6"
      },
      "source": [
        "df_features.recency.quantile([0.25,0.5,0.75])"
      ],
      "execution_count": null,
      "outputs": [
        {
          "output_type": "execute_result",
          "data": {
            "text/plain": [
              "0.25    248.0\n",
              "0.50    263.0\n",
              "0.75    298.0\n",
              "Name: recency, dtype: float64"
            ]
          },
          "metadata": {
            "tags": []
          },
          "execution_count": 63
        }
      ]
    },
    {
      "cell_type": "code",
      "metadata": {
        "colab": {
          "base_uri": "https://localhost:8080/",
          "height": 542
        },
        "id": "bEEa5Nbb3reF",
        "outputId": "42e9eee4-b8cc-404f-a1c9-dc72e1499c6b"
      },
      "source": [
        "px.box(df_features, y=\"recency\")"
      ],
      "execution_count": null,
      "outputs": [
        {
          "output_type": "display_data",
          "data": {
            "text/html": [
              "<html>\n",
              "<head><meta charset=\"utf-8\" /></head>\n",
              "<body>\n",
              "    <div>\n",
              "            <script src=\"https://cdnjs.cloudflare.com/ajax/libs/mathjax/2.7.5/MathJax.js?config=TeX-AMS-MML_SVG\"></script><script type=\"text/javascript\">if (window.MathJax) {MathJax.Hub.Config({SVG: {font: \"STIX-Web\"}});}</script>\n",
              "                <script type=\"text/javascript\">window.PlotlyConfig = {MathJaxConfig: 'local'};</script>\n",
              "        <script src=\"https://cdn.plot.ly/plotly-latest.min.js\"></script>    \n",
              "            <div id=\"c3d34475-ff86-473a-bde7-7d41273a8f38\" class=\"plotly-graph-div\" style=\"height:525px; width:100%;\"></div>\n",
              "            <script type=\"text/javascript\">\n",
              "                \n",
              "                    window.PLOTLYENV=window.PLOTLYENV || {};\n",
              "                    \n",
              "                if (document.getElementById(\"c3d34475-ff86-473a-bde7-7d41273a8f38\")) {\n",
              "                    Plotly.newPlot(\n",
              "                        'c3d34475-ff86-473a-bde7-7d41273a8f38',\n",
              "                        [{\"alignmentgroup\": \"True\", \"hoverlabel\": {\"namelength\": 0}, \"hovertemplate\": \"recency=%{y}\", \"legendgroup\": \"\", \"marker\": {\"color\": \"#636efa\"}, \"name\": \"\", \"notched\": false, \"offsetgroup\": \"\", \"orientation\": \"v\", \"showlegend\": false, \"type\": \"box\", \"x0\": \" \", \"xaxis\": \"x\", \"y\": [267, 303, 338, 266, 303, 247, 354, 283, 240, 252, 262, 248, 897, 254, 254, 343, 242, 319, 248, 241, 427, 375, 249, 267, 283, 246, 288, 302, 255, 252, 246, 379, 249, 248, 480, 246, 301, 260, 283, 249, 365, 589, 241, 323, 241, 255, 263, 291, 269, 428, 295, 247, 277, 256, 262, 241, 249, 268, 276, 242, 262, 263, 240, 246, 247, 240, 267, 266, 245, 331, 240, 254, 282, 255, 275, 270, 284, 242, 347, 358, 274, 343, 415, 253, 261, 298, 245, 269, 253], \"y0\": \" \", \"yaxis\": \"y\"}],\n",
              "                        {\"boxmode\": \"group\", \"legend\": {\"tracegroupgap\": 0}, \"margin\": {\"t\": 60}, \"template\": {\"data\": {\"bar\": [{\"error_x\": {\"color\": \"#2a3f5f\"}, \"error_y\": {\"color\": \"#2a3f5f\"}, \"marker\": {\"line\": {\"color\": \"#E5ECF6\", \"width\": 0.5}}, \"type\": \"bar\"}], \"barpolar\": [{\"marker\": {\"line\": {\"color\": \"#E5ECF6\", \"width\": 0.5}}, \"type\": \"barpolar\"}], \"carpet\": [{\"aaxis\": {\"endlinecolor\": \"#2a3f5f\", \"gridcolor\": \"white\", \"linecolor\": \"white\", \"minorgridcolor\": \"white\", \"startlinecolor\": \"#2a3f5f\"}, \"baxis\": {\"endlinecolor\": \"#2a3f5f\", \"gridcolor\": \"white\", \"linecolor\": \"white\", \"minorgridcolor\": \"white\", \"startlinecolor\": \"#2a3f5f\"}, \"type\": \"carpet\"}], \"choropleth\": [{\"colorbar\": {\"outlinewidth\": 0, \"ticks\": \"\"}, \"type\": \"choropleth\"}], \"contour\": [{\"colorbar\": {\"outlinewidth\": 0, \"ticks\": \"\"}, \"colorscale\": [[0.0, \"#0d0887\"], [0.1111111111111111, \"#46039f\"], [0.2222222222222222, \"#7201a8\"], [0.3333333333333333, \"#9c179e\"], [0.4444444444444444, \"#bd3786\"], [0.5555555555555556, \"#d8576b\"], [0.6666666666666666, \"#ed7953\"], [0.7777777777777778, \"#fb9f3a\"], [0.8888888888888888, \"#fdca26\"], [1.0, \"#f0f921\"]], \"type\": \"contour\"}], \"contourcarpet\": [{\"colorbar\": {\"outlinewidth\": 0, \"ticks\": \"\"}, \"type\": \"contourcarpet\"}], \"heatmap\": [{\"colorbar\": {\"outlinewidth\": 0, \"ticks\": \"\"}, \"colorscale\": [[0.0, \"#0d0887\"], [0.1111111111111111, \"#46039f\"], [0.2222222222222222, \"#7201a8\"], [0.3333333333333333, \"#9c179e\"], [0.4444444444444444, \"#bd3786\"], [0.5555555555555556, \"#d8576b\"], [0.6666666666666666, \"#ed7953\"], [0.7777777777777778, \"#fb9f3a\"], [0.8888888888888888, \"#fdca26\"], [1.0, \"#f0f921\"]], \"type\": \"heatmap\"}], \"heatmapgl\": [{\"colorbar\": {\"outlinewidth\": 0, \"ticks\": \"\"}, \"colorscale\": [[0.0, \"#0d0887\"], [0.1111111111111111, \"#46039f\"], [0.2222222222222222, \"#7201a8\"], [0.3333333333333333, \"#9c179e\"], [0.4444444444444444, \"#bd3786\"], [0.5555555555555556, \"#d8576b\"], [0.6666666666666666, \"#ed7953\"], [0.7777777777777778, \"#fb9f3a\"], [0.8888888888888888, \"#fdca26\"], [1.0, \"#f0f921\"]], \"type\": \"heatmapgl\"}], \"histogram\": [{\"marker\": {\"colorbar\": {\"outlinewidth\": 0, \"ticks\": \"\"}}, \"type\": \"histogram\"}], \"histogram2d\": [{\"colorbar\": {\"outlinewidth\": 0, \"ticks\": \"\"}, \"colorscale\": [[0.0, \"#0d0887\"], [0.1111111111111111, \"#46039f\"], [0.2222222222222222, \"#7201a8\"], [0.3333333333333333, \"#9c179e\"], [0.4444444444444444, \"#bd3786\"], [0.5555555555555556, \"#d8576b\"], [0.6666666666666666, \"#ed7953\"], [0.7777777777777778, \"#fb9f3a\"], [0.8888888888888888, \"#fdca26\"], [1.0, \"#f0f921\"]], \"type\": \"histogram2d\"}], \"histogram2dcontour\": [{\"colorbar\": {\"outlinewidth\": 0, \"ticks\": \"\"}, \"colorscale\": [[0.0, \"#0d0887\"], [0.1111111111111111, \"#46039f\"], [0.2222222222222222, \"#7201a8\"], [0.3333333333333333, \"#9c179e\"], [0.4444444444444444, \"#bd3786\"], [0.5555555555555556, \"#d8576b\"], [0.6666666666666666, \"#ed7953\"], [0.7777777777777778, \"#fb9f3a\"], [0.8888888888888888, \"#fdca26\"], [1.0, \"#f0f921\"]], \"type\": \"histogram2dcontour\"}], \"mesh3d\": [{\"colorbar\": {\"outlinewidth\": 0, \"ticks\": \"\"}, \"type\": \"mesh3d\"}], \"parcoords\": [{\"line\": {\"colorbar\": {\"outlinewidth\": 0, \"ticks\": \"\"}}, \"type\": \"parcoords\"}], \"pie\": [{\"automargin\": true, \"type\": \"pie\"}], \"scatter\": [{\"marker\": {\"colorbar\": {\"outlinewidth\": 0, \"ticks\": \"\"}}, \"type\": \"scatter\"}], \"scatter3d\": [{\"line\": {\"colorbar\": {\"outlinewidth\": 0, \"ticks\": \"\"}}, \"marker\": {\"colorbar\": {\"outlinewidth\": 0, \"ticks\": \"\"}}, \"type\": \"scatter3d\"}], \"scattercarpet\": [{\"marker\": {\"colorbar\": {\"outlinewidth\": 0, \"ticks\": \"\"}}, \"type\": \"scattercarpet\"}], \"scattergeo\": [{\"marker\": {\"colorbar\": {\"outlinewidth\": 0, \"ticks\": \"\"}}, \"type\": \"scattergeo\"}], \"scattergl\": [{\"marker\": {\"colorbar\": {\"outlinewidth\": 0, \"ticks\": \"\"}}, \"type\": \"scattergl\"}], \"scattermapbox\": [{\"marker\": {\"colorbar\": {\"outlinewidth\": 0, \"ticks\": \"\"}}, \"type\": \"scattermapbox\"}], \"scatterpolar\": [{\"marker\": {\"colorbar\": {\"outlinewidth\": 0, \"ticks\": \"\"}}, \"type\": \"scatterpolar\"}], \"scatterpolargl\": [{\"marker\": {\"colorbar\": {\"outlinewidth\": 0, \"ticks\": \"\"}}, \"type\": \"scatterpolargl\"}], \"scatterternary\": [{\"marker\": {\"colorbar\": {\"outlinewidth\": 0, \"ticks\": \"\"}}, \"type\": \"scatterternary\"}], \"surface\": [{\"colorbar\": {\"outlinewidth\": 0, \"ticks\": \"\"}, \"colorscale\": [[0.0, \"#0d0887\"], [0.1111111111111111, \"#46039f\"], [0.2222222222222222, \"#7201a8\"], [0.3333333333333333, \"#9c179e\"], [0.4444444444444444, \"#bd3786\"], [0.5555555555555556, \"#d8576b\"], [0.6666666666666666, \"#ed7953\"], [0.7777777777777778, \"#fb9f3a\"], [0.8888888888888888, \"#fdca26\"], [1.0, \"#f0f921\"]], \"type\": \"surface\"}], \"table\": [{\"cells\": {\"fill\": {\"color\": \"#EBF0F8\"}, \"line\": {\"color\": \"white\"}}, \"header\": {\"fill\": {\"color\": \"#C8D4E3\"}, \"line\": {\"color\": \"white\"}}, \"type\": \"table\"}]}, \"layout\": {\"annotationdefaults\": {\"arrowcolor\": \"#2a3f5f\", \"arrowhead\": 0, \"arrowwidth\": 1}, \"coloraxis\": {\"colorbar\": {\"outlinewidth\": 0, \"ticks\": \"\"}}, \"colorscale\": {\"diverging\": [[0, \"#8e0152\"], [0.1, \"#c51b7d\"], [0.2, \"#de77ae\"], [0.3, \"#f1b6da\"], [0.4, \"#fde0ef\"], [0.5, \"#f7f7f7\"], [0.6, \"#e6f5d0\"], [0.7, \"#b8e186\"], [0.8, \"#7fbc41\"], [0.9, \"#4d9221\"], [1, \"#276419\"]], \"sequential\": [[0.0, \"#0d0887\"], [0.1111111111111111, \"#46039f\"], [0.2222222222222222, \"#7201a8\"], [0.3333333333333333, \"#9c179e\"], [0.4444444444444444, \"#bd3786\"], [0.5555555555555556, \"#d8576b\"], [0.6666666666666666, \"#ed7953\"], [0.7777777777777778, \"#fb9f3a\"], [0.8888888888888888, \"#fdca26\"], [1.0, \"#f0f921\"]], \"sequentialminus\": [[0.0, \"#0d0887\"], [0.1111111111111111, \"#46039f\"], [0.2222222222222222, \"#7201a8\"], [0.3333333333333333, \"#9c179e\"], [0.4444444444444444, \"#bd3786\"], [0.5555555555555556, \"#d8576b\"], [0.6666666666666666, \"#ed7953\"], [0.7777777777777778, \"#fb9f3a\"], [0.8888888888888888, \"#fdca26\"], [1.0, \"#f0f921\"]]}, \"colorway\": [\"#636efa\", \"#EF553B\", \"#00cc96\", \"#ab63fa\", \"#FFA15A\", \"#19d3f3\", \"#FF6692\", \"#B6E880\", \"#FF97FF\", \"#FECB52\"], \"font\": {\"color\": \"#2a3f5f\"}, \"geo\": {\"bgcolor\": \"white\", \"lakecolor\": \"white\", \"landcolor\": \"#E5ECF6\", \"showlakes\": true, \"showland\": true, \"subunitcolor\": \"white\"}, \"hoverlabel\": {\"align\": \"left\"}, \"hovermode\": \"closest\", \"mapbox\": {\"style\": \"light\"}, \"paper_bgcolor\": \"white\", \"plot_bgcolor\": \"#E5ECF6\", \"polar\": {\"angularaxis\": {\"gridcolor\": \"white\", \"linecolor\": \"white\", \"ticks\": \"\"}, \"bgcolor\": \"#E5ECF6\", \"radialaxis\": {\"gridcolor\": \"white\", \"linecolor\": \"white\", \"ticks\": \"\"}}, \"scene\": {\"xaxis\": {\"backgroundcolor\": \"#E5ECF6\", \"gridcolor\": \"white\", \"gridwidth\": 2, \"linecolor\": \"white\", \"showbackground\": true, \"ticks\": \"\", \"zerolinecolor\": \"white\"}, \"yaxis\": {\"backgroundcolor\": \"#E5ECF6\", \"gridcolor\": \"white\", \"gridwidth\": 2, \"linecolor\": \"white\", \"showbackground\": true, \"ticks\": \"\", \"zerolinecolor\": \"white\"}, \"zaxis\": {\"backgroundcolor\": \"#E5ECF6\", \"gridcolor\": \"white\", \"gridwidth\": 2, \"linecolor\": \"white\", \"showbackground\": true, \"ticks\": \"\", \"zerolinecolor\": \"white\"}}, \"shapedefaults\": {\"line\": {\"color\": \"#2a3f5f\"}}, \"ternary\": {\"aaxis\": {\"gridcolor\": \"white\", \"linecolor\": \"white\", \"ticks\": \"\"}, \"baxis\": {\"gridcolor\": \"white\", \"linecolor\": \"white\", \"ticks\": \"\"}, \"bgcolor\": \"#E5ECF6\", \"caxis\": {\"gridcolor\": \"white\", \"linecolor\": \"white\", \"ticks\": \"\"}}, \"title\": {\"x\": 0.05}, \"xaxis\": {\"automargin\": true, \"gridcolor\": \"white\", \"linecolor\": \"white\", \"ticks\": \"\", \"title\": {\"standoff\": 15}, \"zerolinecolor\": \"white\", \"zerolinewidth\": 2}, \"yaxis\": {\"automargin\": true, \"gridcolor\": \"white\", \"linecolor\": \"white\", \"ticks\": \"\", \"title\": {\"standoff\": 15}, \"zerolinecolor\": \"white\", \"zerolinewidth\": 2}}}, \"xaxis\": {\"anchor\": \"y\", \"domain\": [0.0, 1.0]}, \"yaxis\": {\"anchor\": \"x\", \"domain\": [0.0, 1.0], \"title\": {\"text\": \"recency\"}}},\n",
              "                        {\"responsive\": true}\n",
              "                    ).then(function(){\n",
              "                            \n",
              "var gd = document.getElementById('c3d34475-ff86-473a-bde7-7d41273a8f38');\n",
              "var x = new MutationObserver(function (mutations, observer) {{\n",
              "        var display = window.getComputedStyle(gd).display;\n",
              "        if (!display || display === 'none') {{\n",
              "            console.log([gd, 'removed!']);\n",
              "            Plotly.purge(gd);\n",
              "            observer.disconnect();\n",
              "        }}\n",
              "}});\n",
              "\n",
              "// Listen for the removal of the full notebook cells\n",
              "var notebookContainer = gd.closest('#notebook-container');\n",
              "if (notebookContainer) {{\n",
              "    x.observe(notebookContainer, {childList: true});\n",
              "}}\n",
              "\n",
              "// Listen for the clearing of the current output cell\n",
              "var outputEl = gd.closest('.output');\n",
              "if (outputEl) {{\n",
              "    x.observe(outputEl, {childList: true});\n",
              "}}\n",
              "\n",
              "                        })\n",
              "                };\n",
              "                \n",
              "            </script>\n",
              "        </div>\n",
              "</body>\n",
              "</html>"
            ]
          },
          "metadata": {
            "tags": []
          }
        }
      ]
    },
    {
      "cell_type": "code",
      "metadata": {
        "colab": {
          "base_uri": "https://localhost:8080/"
        },
        "id": "Iv3DFk_H352b",
        "outputId": "273eefe4-5255-4339-f811-825de286148c"
      },
      "source": [
        "df_features.frequency.quantile([0.25,0.5,0.75])"
      ],
      "execution_count": null,
      "outputs": [
        {
          "output_type": "execute_result",
          "data": {
            "text/plain": [
              "0.25    11.0\n",
              "0.50    20.0\n",
              "0.75    31.0\n",
              "Name: frequency, dtype: float64"
            ]
          },
          "metadata": {
            "tags": []
          },
          "execution_count": 66
        }
      ]
    },
    {
      "cell_type": "code",
      "metadata": {
        "colab": {
          "base_uri": "https://localhost:8080/",
          "height": 542
        },
        "id": "Fu5pEjMy5UaE",
        "outputId": "3efd0a93-d5c7-4ca6-ee8d-12ddca625c4f"
      },
      "source": [
        "px.box(df_features, y=\"frequency\")"
      ],
      "execution_count": null,
      "outputs": [
        {
          "output_type": "display_data",
          "data": {
            "text/html": [
              "<html>\n",
              "<head><meta charset=\"utf-8\" /></head>\n",
              "<body>\n",
              "    <div>\n",
              "            <script src=\"https://cdnjs.cloudflare.com/ajax/libs/mathjax/2.7.5/MathJax.js?config=TeX-AMS-MML_SVG\"></script><script type=\"text/javascript\">if (window.MathJax) {MathJax.Hub.Config({SVG: {font: \"STIX-Web\"}});}</script>\n",
              "                <script type=\"text/javascript\">window.PlotlyConfig = {MathJaxConfig: 'local'};</script>\n",
              "        <script src=\"https://cdn.plot.ly/plotly-latest.min.js\"></script>    \n",
              "            <div id=\"a57961fc-bdbc-4fce-a7b8-aade667ce56d\" class=\"plotly-graph-div\" style=\"height:525px; width:100%;\"></div>\n",
              "            <script type=\"text/javascript\">\n",
              "                \n",
              "                    window.PLOTLYENV=window.PLOTLYENV || {};\n",
              "                    \n",
              "                if (document.getElementById(\"a57961fc-bdbc-4fce-a7b8-aade667ce56d\")) {\n",
              "                    Plotly.newPlot(\n",
              "                        'a57961fc-bdbc-4fce-a7b8-aade667ce56d',\n",
              "                        [{\"alignmentgroup\": \"True\", \"hoverlabel\": {\"namelength\": 0}, \"hovertemplate\": \"frequency=%{y}\", \"legendgroup\": \"\", \"marker\": {\"color\": \"#636efa\"}, \"name\": \"\", \"notched\": false, \"offsetgroup\": \"\", \"orientation\": \"v\", \"showlegend\": false, \"type\": \"box\", \"x0\": \" \", \"xaxis\": \"x\", \"y\": [12, 10, 17, 30, 52, 14, 26, 6, 44, 35, 22, 11, 2, 22, 10, 7, 10, 9, 21, 102, 19, 16, 45, 48, 6, 10, 20, 8, 26, 19, 22, 4, 32, 45, 9, 55, 23, 39, 11, 31, 8, 2, 39, 10, 34, 35, 14, 21, 17, 32, 11, 6, 11, 24, 29, 14, 23, 10, 24, 40, 86, 12, 71, 22, 27, 30, 14, 16, 116, 26, 15, 6, 20, 39, 7, 8, 14, 29, 13, 9, 31, 25, 10, 26, 37, 19, 40, 17, 16], \"y0\": \" \", \"yaxis\": \"y\"}],\n",
              "                        {\"boxmode\": \"group\", \"legend\": {\"tracegroupgap\": 0}, \"margin\": {\"t\": 60}, \"template\": {\"data\": {\"bar\": [{\"error_x\": {\"color\": \"#2a3f5f\"}, \"error_y\": {\"color\": \"#2a3f5f\"}, \"marker\": {\"line\": {\"color\": \"#E5ECF6\", \"width\": 0.5}}, \"type\": \"bar\"}], \"barpolar\": [{\"marker\": {\"line\": {\"color\": \"#E5ECF6\", \"width\": 0.5}}, \"type\": \"barpolar\"}], \"carpet\": [{\"aaxis\": {\"endlinecolor\": \"#2a3f5f\", \"gridcolor\": \"white\", \"linecolor\": \"white\", \"minorgridcolor\": \"white\", \"startlinecolor\": \"#2a3f5f\"}, \"baxis\": {\"endlinecolor\": \"#2a3f5f\", \"gridcolor\": \"white\", \"linecolor\": \"white\", \"minorgridcolor\": \"white\", \"startlinecolor\": \"#2a3f5f\"}, \"type\": \"carpet\"}], \"choropleth\": [{\"colorbar\": {\"outlinewidth\": 0, \"ticks\": \"\"}, \"type\": \"choropleth\"}], \"contour\": [{\"colorbar\": {\"outlinewidth\": 0, \"ticks\": \"\"}, \"colorscale\": [[0.0, \"#0d0887\"], [0.1111111111111111, \"#46039f\"], [0.2222222222222222, \"#7201a8\"], [0.3333333333333333, \"#9c179e\"], [0.4444444444444444, \"#bd3786\"], [0.5555555555555556, \"#d8576b\"], [0.6666666666666666, \"#ed7953\"], [0.7777777777777778, \"#fb9f3a\"], [0.8888888888888888, \"#fdca26\"], [1.0, \"#f0f921\"]], \"type\": \"contour\"}], \"contourcarpet\": [{\"colorbar\": {\"outlinewidth\": 0, \"ticks\": \"\"}, \"type\": \"contourcarpet\"}], \"heatmap\": [{\"colorbar\": {\"outlinewidth\": 0, \"ticks\": \"\"}, \"colorscale\": [[0.0, \"#0d0887\"], [0.1111111111111111, \"#46039f\"], [0.2222222222222222, \"#7201a8\"], [0.3333333333333333, \"#9c179e\"], [0.4444444444444444, \"#bd3786\"], [0.5555555555555556, \"#d8576b\"], [0.6666666666666666, \"#ed7953\"], [0.7777777777777778, \"#fb9f3a\"], [0.8888888888888888, \"#fdca26\"], [1.0, \"#f0f921\"]], \"type\": \"heatmap\"}], \"heatmapgl\": [{\"colorbar\": {\"outlinewidth\": 0, \"ticks\": \"\"}, \"colorscale\": [[0.0, \"#0d0887\"], [0.1111111111111111, \"#46039f\"], [0.2222222222222222, \"#7201a8\"], [0.3333333333333333, \"#9c179e\"], [0.4444444444444444, \"#bd3786\"], [0.5555555555555556, \"#d8576b\"], [0.6666666666666666, \"#ed7953\"], [0.7777777777777778, \"#fb9f3a\"], [0.8888888888888888, \"#fdca26\"], [1.0, \"#f0f921\"]], \"type\": \"heatmapgl\"}], \"histogram\": [{\"marker\": {\"colorbar\": {\"outlinewidth\": 0, \"ticks\": \"\"}}, \"type\": \"histogram\"}], \"histogram2d\": [{\"colorbar\": {\"outlinewidth\": 0, \"ticks\": \"\"}, \"colorscale\": [[0.0, \"#0d0887\"], [0.1111111111111111, \"#46039f\"], [0.2222222222222222, \"#7201a8\"], [0.3333333333333333, \"#9c179e\"], [0.4444444444444444, \"#bd3786\"], [0.5555555555555556, \"#d8576b\"], [0.6666666666666666, \"#ed7953\"], [0.7777777777777778, \"#fb9f3a\"], [0.8888888888888888, \"#fdca26\"], [1.0, \"#f0f921\"]], \"type\": \"histogram2d\"}], \"histogram2dcontour\": [{\"colorbar\": {\"outlinewidth\": 0, \"ticks\": \"\"}, \"colorscale\": [[0.0, \"#0d0887\"], [0.1111111111111111, \"#46039f\"], [0.2222222222222222, \"#7201a8\"], [0.3333333333333333, \"#9c179e\"], [0.4444444444444444, \"#bd3786\"], [0.5555555555555556, \"#d8576b\"], [0.6666666666666666, \"#ed7953\"], [0.7777777777777778, \"#fb9f3a\"], [0.8888888888888888, \"#fdca26\"], [1.0, \"#f0f921\"]], \"type\": \"histogram2dcontour\"}], \"mesh3d\": [{\"colorbar\": {\"outlinewidth\": 0, \"ticks\": \"\"}, \"type\": \"mesh3d\"}], \"parcoords\": [{\"line\": {\"colorbar\": {\"outlinewidth\": 0, \"ticks\": \"\"}}, \"type\": \"parcoords\"}], \"pie\": [{\"automargin\": true, \"type\": \"pie\"}], \"scatter\": [{\"marker\": {\"colorbar\": {\"outlinewidth\": 0, \"ticks\": \"\"}}, \"type\": \"scatter\"}], \"scatter3d\": [{\"line\": {\"colorbar\": {\"outlinewidth\": 0, \"ticks\": \"\"}}, \"marker\": {\"colorbar\": {\"outlinewidth\": 0, \"ticks\": \"\"}}, \"type\": \"scatter3d\"}], \"scattercarpet\": [{\"marker\": {\"colorbar\": {\"outlinewidth\": 0, \"ticks\": \"\"}}, \"type\": \"scattercarpet\"}], \"scattergeo\": [{\"marker\": {\"colorbar\": {\"outlinewidth\": 0, \"ticks\": \"\"}}, \"type\": \"scattergeo\"}], \"scattergl\": [{\"marker\": {\"colorbar\": {\"outlinewidth\": 0, \"ticks\": \"\"}}, \"type\": \"scattergl\"}], \"scattermapbox\": [{\"marker\": {\"colorbar\": {\"outlinewidth\": 0, \"ticks\": \"\"}}, \"type\": \"scattermapbox\"}], \"scatterpolar\": [{\"marker\": {\"colorbar\": {\"outlinewidth\": 0, \"ticks\": \"\"}}, \"type\": \"scatterpolar\"}], \"scatterpolargl\": [{\"marker\": {\"colorbar\": {\"outlinewidth\": 0, \"ticks\": \"\"}}, \"type\": \"scatterpolargl\"}], \"scatterternary\": [{\"marker\": {\"colorbar\": {\"outlinewidth\": 0, \"ticks\": \"\"}}, \"type\": \"scatterternary\"}], \"surface\": [{\"colorbar\": {\"outlinewidth\": 0, \"ticks\": \"\"}, \"colorscale\": [[0.0, \"#0d0887\"], [0.1111111111111111, \"#46039f\"], [0.2222222222222222, \"#7201a8\"], [0.3333333333333333, \"#9c179e\"], [0.4444444444444444, \"#bd3786\"], [0.5555555555555556, \"#d8576b\"], [0.6666666666666666, \"#ed7953\"], [0.7777777777777778, \"#fb9f3a\"], [0.8888888888888888, \"#fdca26\"], [1.0, \"#f0f921\"]], \"type\": \"surface\"}], \"table\": [{\"cells\": {\"fill\": {\"color\": \"#EBF0F8\"}, \"line\": {\"color\": \"white\"}}, \"header\": {\"fill\": {\"color\": \"#C8D4E3\"}, \"line\": {\"color\": \"white\"}}, \"type\": \"table\"}]}, \"layout\": {\"annotationdefaults\": {\"arrowcolor\": \"#2a3f5f\", \"arrowhead\": 0, \"arrowwidth\": 1}, \"coloraxis\": {\"colorbar\": {\"outlinewidth\": 0, \"ticks\": \"\"}}, \"colorscale\": {\"diverging\": [[0, \"#8e0152\"], [0.1, \"#c51b7d\"], [0.2, \"#de77ae\"], [0.3, \"#f1b6da\"], [0.4, \"#fde0ef\"], [0.5, \"#f7f7f7\"], [0.6, \"#e6f5d0\"], [0.7, \"#b8e186\"], [0.8, \"#7fbc41\"], [0.9, \"#4d9221\"], [1, \"#276419\"]], \"sequential\": [[0.0, \"#0d0887\"], [0.1111111111111111, \"#46039f\"], [0.2222222222222222, \"#7201a8\"], [0.3333333333333333, \"#9c179e\"], [0.4444444444444444, \"#bd3786\"], [0.5555555555555556, \"#d8576b\"], [0.6666666666666666, \"#ed7953\"], [0.7777777777777778, \"#fb9f3a\"], [0.8888888888888888, \"#fdca26\"], [1.0, \"#f0f921\"]], \"sequentialminus\": [[0.0, \"#0d0887\"], [0.1111111111111111, \"#46039f\"], [0.2222222222222222, \"#7201a8\"], [0.3333333333333333, \"#9c179e\"], [0.4444444444444444, \"#bd3786\"], [0.5555555555555556, \"#d8576b\"], [0.6666666666666666, \"#ed7953\"], [0.7777777777777778, \"#fb9f3a\"], [0.8888888888888888, \"#fdca26\"], [1.0, \"#f0f921\"]]}, \"colorway\": [\"#636efa\", \"#EF553B\", \"#00cc96\", \"#ab63fa\", \"#FFA15A\", \"#19d3f3\", \"#FF6692\", \"#B6E880\", \"#FF97FF\", \"#FECB52\"], \"font\": {\"color\": \"#2a3f5f\"}, \"geo\": {\"bgcolor\": \"white\", \"lakecolor\": \"white\", \"landcolor\": \"#E5ECF6\", \"showlakes\": true, \"showland\": true, \"subunitcolor\": \"white\"}, \"hoverlabel\": {\"align\": \"left\"}, \"hovermode\": \"closest\", \"mapbox\": {\"style\": \"light\"}, \"paper_bgcolor\": \"white\", \"plot_bgcolor\": \"#E5ECF6\", \"polar\": {\"angularaxis\": {\"gridcolor\": \"white\", \"linecolor\": \"white\", \"ticks\": \"\"}, \"bgcolor\": \"#E5ECF6\", \"radialaxis\": {\"gridcolor\": \"white\", \"linecolor\": \"white\", \"ticks\": \"\"}}, \"scene\": {\"xaxis\": {\"backgroundcolor\": \"#E5ECF6\", \"gridcolor\": \"white\", \"gridwidth\": 2, \"linecolor\": \"white\", \"showbackground\": true, \"ticks\": \"\", \"zerolinecolor\": \"white\"}, \"yaxis\": {\"backgroundcolor\": \"#E5ECF6\", \"gridcolor\": \"white\", \"gridwidth\": 2, \"linecolor\": \"white\", \"showbackground\": true, \"ticks\": \"\", \"zerolinecolor\": \"white\"}, \"zaxis\": {\"backgroundcolor\": \"#E5ECF6\", \"gridcolor\": \"white\", \"gridwidth\": 2, \"linecolor\": \"white\", \"showbackground\": true, \"ticks\": \"\", \"zerolinecolor\": \"white\"}}, \"shapedefaults\": {\"line\": {\"color\": \"#2a3f5f\"}}, \"ternary\": {\"aaxis\": {\"gridcolor\": \"white\", \"linecolor\": \"white\", \"ticks\": \"\"}, \"baxis\": {\"gridcolor\": \"white\", \"linecolor\": \"white\", \"ticks\": \"\"}, \"bgcolor\": \"#E5ECF6\", \"caxis\": {\"gridcolor\": \"white\", \"linecolor\": \"white\", \"ticks\": \"\"}}, \"title\": {\"x\": 0.05}, \"xaxis\": {\"automargin\": true, \"gridcolor\": \"white\", \"linecolor\": \"white\", \"ticks\": \"\", \"title\": {\"standoff\": 15}, \"zerolinecolor\": \"white\", \"zerolinewidth\": 2}, \"yaxis\": {\"automargin\": true, \"gridcolor\": \"white\", \"linecolor\": \"white\", \"ticks\": \"\", \"title\": {\"standoff\": 15}, \"zerolinecolor\": \"white\", \"zerolinewidth\": 2}}}, \"xaxis\": {\"anchor\": \"y\", \"domain\": [0.0, 1.0]}, \"yaxis\": {\"anchor\": \"x\", \"domain\": [0.0, 1.0], \"title\": {\"text\": \"frequency\"}}},\n",
              "                        {\"responsive\": true}\n",
              "                    ).then(function(){\n",
              "                            \n",
              "var gd = document.getElementById('a57961fc-bdbc-4fce-a7b8-aade667ce56d');\n",
              "var x = new MutationObserver(function (mutations, observer) {{\n",
              "        var display = window.getComputedStyle(gd).display;\n",
              "        if (!display || display === 'none') {{\n",
              "            console.log([gd, 'removed!']);\n",
              "            Plotly.purge(gd);\n",
              "            observer.disconnect();\n",
              "        }}\n",
              "}});\n",
              "\n",
              "// Listen for the removal of the full notebook cells\n",
              "var notebookContainer = gd.closest('#notebook-container');\n",
              "if (notebookContainer) {{\n",
              "    x.observe(notebookContainer, {childList: true});\n",
              "}}\n",
              "\n",
              "// Listen for the clearing of the current output cell\n",
              "var outputEl = gd.closest('.output');\n",
              "if (outputEl) {{\n",
              "    x.observe(outputEl, {childList: true});\n",
              "}}\n",
              "\n",
              "                        })\n",
              "                };\n",
              "                \n",
              "            </script>\n",
              "        </div>\n",
              "</body>\n",
              "</html>"
            ]
          },
          "metadata": {
            "tags": []
          }
        }
      ]
    },
    {
      "cell_type": "code",
      "metadata": {
        "colab": {
          "base_uri": "https://localhost:8080/"
        },
        "id": "L88Y9t5z5YOL",
        "outputId": "422fea8c-3ba6-4fd3-c63d-487c26ea96e9"
      },
      "source": [
        "df_features.monetary.quantile([0.25,0.5,0.75])"
      ],
      "execution_count": null,
      "outputs": [
        {
          "output_type": "execute_result",
          "data": {
            "text/plain": [
              "0.25     3361.00\n",
              "0.50     7553.80\n",
              "0.75    18136.35\n",
              "Name: monetary, dtype: float64"
            ]
          },
          "metadata": {
            "tags": []
          },
          "execution_count": 68
        }
      ]
    },
    {
      "cell_type": "code",
      "metadata": {
        "colab": {
          "base_uri": "https://localhost:8080/",
          "height": 542
        },
        "id": "jzuDfyKI5m3l",
        "outputId": "f779647c-9727-4c0a-8e9c-5510ebc0038c"
      },
      "source": [
        "px.box(df_features, y=\"monetary\")"
      ],
      "execution_count": null,
      "outputs": [
        {
          "output_type": "display_data",
          "data": {
            "text/html": [
              "<html>\n",
              "<head><meta charset=\"utf-8\" /></head>\n",
              "<body>\n",
              "    <div>\n",
              "            <script src=\"https://cdnjs.cloudflare.com/ajax/libs/mathjax/2.7.5/MathJax.js?config=TeX-AMS-MML_SVG\"></script><script type=\"text/javascript\">if (window.MathJax) {MathJax.Hub.Config({SVG: {font: \"STIX-Web\"}});}</script>\n",
              "                <script type=\"text/javascript\">window.PlotlyConfig = {MathJaxConfig: 'local'};</script>\n",
              "        <script src=\"https://cdn.plot.ly/plotly-latest.min.js\"></script>    \n",
              "            <div id=\"47977b37-e238-45da-b957-296c8f13087a\" class=\"plotly-graph-div\" style=\"height:525px; width:100%;\"></div>\n",
              "            <script type=\"text/javascript\">\n",
              "                \n",
              "                    window.PLOTLYENV=window.PLOTLYENV || {};\n",
              "                    \n",
              "                if (document.getElementById(\"47977b37-e238-45da-b957-296c8f13087a\")) {\n",
              "                    Plotly.newPlot(\n",
              "                        '47977b37-e238-45da-b957-296c8f13087a',\n",
              "                        [{\"alignmentgroup\": \"True\", \"hoverlabel\": {\"namelength\": 0}, \"hovertemplate\": \"monetary=%{y}\", \"legendgroup\": \"\", \"marker\": {\"color\": \"#636efa\"}, \"name\": \"\", \"notched\": false, \"offsetgroup\": \"\", \"orientation\": \"v\", \"showlegend\": false, \"type\": \"box\", \"x0\": \" \", \"xaxis\": \"x\", \"y\": [4595.15, 1402.95, 7514.35, 13805.800000000003, 26965.15, 3239.8, 19087.250000000004, 5297.1, 23847.750000000004, 22604.75, 6089.9, 1814.8, 100.8, 12884.999999999998, 3810.75, 1719.1, 3763.21, 1615.8999999999999, 15033.16, 113229.73000000001, 4437.7, 11666.9, 32551.699999999997, 28719.559999999998, 3172.16, 1545.7, 7149.600000000001, 836.7, 11829.05, 8700.93, 19709.579999999998, 1488.7, 34099.00000000001, 23610.079999999994, 3063.2, 57311.13999999999, 6146.3, 31744.199999999997, 1992.0500000000002, 10268.449999999993, 522.5, 357.0, 21278.269999999993, 3488.92, 17821.760000000002, 17886.449999999997, 4258.6, 7602.800000000001, 10429.58, 32202.05000000001, 5042.2, 649.0, 3460.2, 16323.550000000001, 13155.800000000001, 4242.2, 26258.3, 5316.2, 6972.18, 30222.5, 117477.43999999996, 2844.1, 52243.41, 7553.8, 12923.1, 20031.95, 1467.29, 5735.150000000001, 115663.79000000002, 17170.149999999998, 18136.35, 2423.35, 12487.849999999997, 24703.249999999996, 3361.0, 1947.24, 4952.75, 10812.15, 7309.67, 1571.1999999999998, 16642.8, 9934.800000000003, 1480.0, 10651.550000000001, 16615.100000000002, 6479.15, 29070.7, 3161.35, 3531.95], \"y0\": \" \", \"yaxis\": \"y\"}],\n",
              "                        {\"boxmode\": \"group\", \"legend\": {\"tracegroupgap\": 0}, \"margin\": {\"t\": 60}, \"template\": {\"data\": {\"bar\": [{\"error_x\": {\"color\": \"#2a3f5f\"}, \"error_y\": {\"color\": \"#2a3f5f\"}, \"marker\": {\"line\": {\"color\": \"#E5ECF6\", \"width\": 0.5}}, \"type\": \"bar\"}], \"barpolar\": [{\"marker\": {\"line\": {\"color\": \"#E5ECF6\", \"width\": 0.5}}, \"type\": \"barpolar\"}], \"carpet\": [{\"aaxis\": {\"endlinecolor\": \"#2a3f5f\", \"gridcolor\": \"white\", \"linecolor\": \"white\", \"minorgridcolor\": \"white\", \"startlinecolor\": \"#2a3f5f\"}, \"baxis\": {\"endlinecolor\": \"#2a3f5f\", \"gridcolor\": \"white\", \"linecolor\": \"white\", \"minorgridcolor\": \"white\", \"startlinecolor\": \"#2a3f5f\"}, \"type\": \"carpet\"}], \"choropleth\": [{\"colorbar\": {\"outlinewidth\": 0, \"ticks\": \"\"}, \"type\": \"choropleth\"}], \"contour\": [{\"colorbar\": {\"outlinewidth\": 0, \"ticks\": \"\"}, \"colorscale\": [[0.0, \"#0d0887\"], [0.1111111111111111, \"#46039f\"], [0.2222222222222222, \"#7201a8\"], [0.3333333333333333, \"#9c179e\"], [0.4444444444444444, \"#bd3786\"], [0.5555555555555556, \"#d8576b\"], [0.6666666666666666, \"#ed7953\"], [0.7777777777777778, \"#fb9f3a\"], [0.8888888888888888, \"#fdca26\"], [1.0, \"#f0f921\"]], \"type\": \"contour\"}], \"contourcarpet\": [{\"colorbar\": {\"outlinewidth\": 0, \"ticks\": \"\"}, \"type\": \"contourcarpet\"}], \"heatmap\": [{\"colorbar\": {\"outlinewidth\": 0, \"ticks\": \"\"}, \"colorscale\": [[0.0, \"#0d0887\"], [0.1111111111111111, \"#46039f\"], [0.2222222222222222, \"#7201a8\"], [0.3333333333333333, \"#9c179e\"], [0.4444444444444444, \"#bd3786\"], [0.5555555555555556, \"#d8576b\"], [0.6666666666666666, \"#ed7953\"], [0.7777777777777778, \"#fb9f3a\"], [0.8888888888888888, \"#fdca26\"], [1.0, \"#f0f921\"]], \"type\": \"heatmap\"}], \"heatmapgl\": [{\"colorbar\": {\"outlinewidth\": 0, \"ticks\": \"\"}, \"colorscale\": [[0.0, \"#0d0887\"], [0.1111111111111111, \"#46039f\"], [0.2222222222222222, \"#7201a8\"], [0.3333333333333333, \"#9c179e\"], [0.4444444444444444, \"#bd3786\"], [0.5555555555555556, \"#d8576b\"], [0.6666666666666666, \"#ed7953\"], [0.7777777777777778, \"#fb9f3a\"], [0.8888888888888888, \"#fdca26\"], [1.0, \"#f0f921\"]], \"type\": \"heatmapgl\"}], \"histogram\": [{\"marker\": {\"colorbar\": {\"outlinewidth\": 0, \"ticks\": \"\"}}, \"type\": \"histogram\"}], \"histogram2d\": [{\"colorbar\": {\"outlinewidth\": 0, \"ticks\": \"\"}, \"colorscale\": [[0.0, \"#0d0887\"], [0.1111111111111111, \"#46039f\"], [0.2222222222222222, \"#7201a8\"], [0.3333333333333333, \"#9c179e\"], [0.4444444444444444, \"#bd3786\"], [0.5555555555555556, \"#d8576b\"], [0.6666666666666666, \"#ed7953\"], [0.7777777777777778, \"#fb9f3a\"], [0.8888888888888888, \"#fdca26\"], [1.0, \"#f0f921\"]], \"type\": \"histogram2d\"}], \"histogram2dcontour\": [{\"colorbar\": {\"outlinewidth\": 0, \"ticks\": \"\"}, \"colorscale\": [[0.0, \"#0d0887\"], [0.1111111111111111, \"#46039f\"], [0.2222222222222222, \"#7201a8\"], [0.3333333333333333, \"#9c179e\"], [0.4444444444444444, \"#bd3786\"], [0.5555555555555556, \"#d8576b\"], [0.6666666666666666, \"#ed7953\"], [0.7777777777777778, \"#fb9f3a\"], [0.8888888888888888, \"#fdca26\"], [1.0, \"#f0f921\"]], \"type\": \"histogram2dcontour\"}], \"mesh3d\": [{\"colorbar\": {\"outlinewidth\": 0, \"ticks\": \"\"}, \"type\": \"mesh3d\"}], \"parcoords\": [{\"line\": {\"colorbar\": {\"outlinewidth\": 0, \"ticks\": \"\"}}, \"type\": \"parcoords\"}], \"pie\": [{\"automargin\": true, \"type\": \"pie\"}], \"scatter\": [{\"marker\": {\"colorbar\": {\"outlinewidth\": 0, \"ticks\": \"\"}}, \"type\": \"scatter\"}], \"scatter3d\": [{\"line\": {\"colorbar\": {\"outlinewidth\": 0, \"ticks\": \"\"}}, \"marker\": {\"colorbar\": {\"outlinewidth\": 0, \"ticks\": \"\"}}, \"type\": \"scatter3d\"}], \"scattercarpet\": [{\"marker\": {\"colorbar\": {\"outlinewidth\": 0, \"ticks\": \"\"}}, \"type\": \"scattercarpet\"}], \"scattergeo\": [{\"marker\": {\"colorbar\": {\"outlinewidth\": 0, \"ticks\": \"\"}}, \"type\": \"scattergeo\"}], \"scattergl\": [{\"marker\": {\"colorbar\": {\"outlinewidth\": 0, \"ticks\": \"\"}}, \"type\": \"scattergl\"}], \"scattermapbox\": [{\"marker\": {\"colorbar\": {\"outlinewidth\": 0, \"ticks\": \"\"}}, \"type\": \"scattermapbox\"}], \"scatterpolar\": [{\"marker\": {\"colorbar\": {\"outlinewidth\": 0, \"ticks\": \"\"}}, \"type\": \"scatterpolar\"}], \"scatterpolargl\": [{\"marker\": {\"colorbar\": {\"outlinewidth\": 0, \"ticks\": \"\"}}, \"type\": \"scatterpolargl\"}], \"scatterternary\": [{\"marker\": {\"colorbar\": {\"outlinewidth\": 0, \"ticks\": \"\"}}, \"type\": \"scatterternary\"}], \"surface\": [{\"colorbar\": {\"outlinewidth\": 0, \"ticks\": \"\"}, \"colorscale\": [[0.0, \"#0d0887\"], [0.1111111111111111, \"#46039f\"], [0.2222222222222222, \"#7201a8\"], [0.3333333333333333, \"#9c179e\"], [0.4444444444444444, \"#bd3786\"], [0.5555555555555556, \"#d8576b\"], [0.6666666666666666, \"#ed7953\"], [0.7777777777777778, \"#fb9f3a\"], [0.8888888888888888, \"#fdca26\"], [1.0, \"#f0f921\"]], \"type\": \"surface\"}], \"table\": [{\"cells\": {\"fill\": {\"color\": \"#EBF0F8\"}, \"line\": {\"color\": \"white\"}}, \"header\": {\"fill\": {\"color\": \"#C8D4E3\"}, \"line\": {\"color\": \"white\"}}, \"type\": \"table\"}]}, \"layout\": {\"annotationdefaults\": {\"arrowcolor\": \"#2a3f5f\", \"arrowhead\": 0, \"arrowwidth\": 1}, \"coloraxis\": {\"colorbar\": {\"outlinewidth\": 0, \"ticks\": \"\"}}, \"colorscale\": {\"diverging\": [[0, \"#8e0152\"], [0.1, \"#c51b7d\"], [0.2, \"#de77ae\"], [0.3, \"#f1b6da\"], [0.4, \"#fde0ef\"], [0.5, \"#f7f7f7\"], [0.6, \"#e6f5d0\"], [0.7, \"#b8e186\"], [0.8, \"#7fbc41\"], [0.9, \"#4d9221\"], [1, \"#276419\"]], \"sequential\": [[0.0, \"#0d0887\"], [0.1111111111111111, \"#46039f\"], [0.2222222222222222, \"#7201a8\"], [0.3333333333333333, \"#9c179e\"], [0.4444444444444444, \"#bd3786\"], [0.5555555555555556, \"#d8576b\"], [0.6666666666666666, \"#ed7953\"], [0.7777777777777778, \"#fb9f3a\"], [0.8888888888888888, \"#fdca26\"], [1.0, \"#f0f921\"]], \"sequentialminus\": [[0.0, \"#0d0887\"], [0.1111111111111111, \"#46039f\"], [0.2222222222222222, \"#7201a8\"], [0.3333333333333333, \"#9c179e\"], [0.4444444444444444, \"#bd3786\"], [0.5555555555555556, \"#d8576b\"], [0.6666666666666666, \"#ed7953\"], [0.7777777777777778, \"#fb9f3a\"], [0.8888888888888888, \"#fdca26\"], [1.0, \"#f0f921\"]]}, \"colorway\": [\"#636efa\", \"#EF553B\", \"#00cc96\", \"#ab63fa\", \"#FFA15A\", \"#19d3f3\", \"#FF6692\", \"#B6E880\", \"#FF97FF\", \"#FECB52\"], \"font\": {\"color\": \"#2a3f5f\"}, \"geo\": {\"bgcolor\": \"white\", \"lakecolor\": \"white\", \"landcolor\": \"#E5ECF6\", \"showlakes\": true, \"showland\": true, \"subunitcolor\": \"white\"}, \"hoverlabel\": {\"align\": \"left\"}, \"hovermode\": \"closest\", \"mapbox\": {\"style\": \"light\"}, \"paper_bgcolor\": \"white\", \"plot_bgcolor\": \"#E5ECF6\", \"polar\": {\"angularaxis\": {\"gridcolor\": \"white\", \"linecolor\": \"white\", \"ticks\": \"\"}, \"bgcolor\": \"#E5ECF6\", \"radialaxis\": {\"gridcolor\": \"white\", \"linecolor\": \"white\", \"ticks\": \"\"}}, \"scene\": {\"xaxis\": {\"backgroundcolor\": \"#E5ECF6\", \"gridcolor\": \"white\", \"gridwidth\": 2, \"linecolor\": \"white\", \"showbackground\": true, \"ticks\": \"\", \"zerolinecolor\": \"white\"}, \"yaxis\": {\"backgroundcolor\": \"#E5ECF6\", \"gridcolor\": \"white\", \"gridwidth\": 2, \"linecolor\": \"white\", \"showbackground\": true, \"ticks\": \"\", \"zerolinecolor\": \"white\"}, \"zaxis\": {\"backgroundcolor\": \"#E5ECF6\", \"gridcolor\": \"white\", \"gridwidth\": 2, \"linecolor\": \"white\", \"showbackground\": true, \"ticks\": \"\", \"zerolinecolor\": \"white\"}}, \"shapedefaults\": {\"line\": {\"color\": \"#2a3f5f\"}}, \"ternary\": {\"aaxis\": {\"gridcolor\": \"white\", \"linecolor\": \"white\", \"ticks\": \"\"}, \"baxis\": {\"gridcolor\": \"white\", \"linecolor\": \"white\", \"ticks\": \"\"}, \"bgcolor\": \"#E5ECF6\", \"caxis\": {\"gridcolor\": \"white\", \"linecolor\": \"white\", \"ticks\": \"\"}}, \"title\": {\"x\": 0.05}, \"xaxis\": {\"automargin\": true, \"gridcolor\": \"white\", \"linecolor\": \"white\", \"ticks\": \"\", \"title\": {\"standoff\": 15}, \"zerolinecolor\": \"white\", \"zerolinewidth\": 2}, \"yaxis\": {\"automargin\": true, \"gridcolor\": \"white\", \"linecolor\": \"white\", \"ticks\": \"\", \"title\": {\"standoff\": 15}, \"zerolinecolor\": \"white\", \"zerolinewidth\": 2}}}, \"xaxis\": {\"anchor\": \"y\", \"domain\": [0.0, 1.0]}, \"yaxis\": {\"anchor\": \"x\", \"domain\": [0.0, 1.0], \"title\": {\"text\": \"monetary\"}}},\n",
              "                        {\"responsive\": true}\n",
              "                    ).then(function(){\n",
              "                            \n",
              "var gd = document.getElementById('47977b37-e238-45da-b957-296c8f13087a');\n",
              "var x = new MutationObserver(function (mutations, observer) {{\n",
              "        var display = window.getComputedStyle(gd).display;\n",
              "        if (!display || display === 'none') {{\n",
              "            console.log([gd, 'removed!']);\n",
              "            Plotly.purge(gd);\n",
              "            observer.disconnect();\n",
              "        }}\n",
              "}});\n",
              "\n",
              "// Listen for the removal of the full notebook cells\n",
              "var notebookContainer = gd.closest('#notebook-container');\n",
              "if (notebookContainer) {{\n",
              "    x.observe(notebookContainer, {childList: true});\n",
              "}}\n",
              "\n",
              "// Listen for the clearing of the current output cell\n",
              "var outputEl = gd.closest('.output');\n",
              "if (outputEl) {{\n",
              "    x.observe(outputEl, {childList: true});\n",
              "}}\n",
              "\n",
              "                        })\n",
              "                };\n",
              "                \n",
              "            </script>\n",
              "        </div>\n",
              "</body>\n",
              "</html>"
            ]
          },
          "metadata": {
            "tags": []
          }
        }
      ]
    },
    {
      "cell_type": "markdown",
      "metadata": {
        "id": "L1tmwx-Z55t2"
      },
      "source": [
        "# Konversi Variabel R-F-M ke bin 1,2,3,4"
      ]
    },
    {
      "cell_type": "code",
      "metadata": {
        "id": "s6EB18qX5prf"
      },
      "source": [
        "def convert_R_score(recency):\n",
        "  # 0.25    248.0\n",
        "  # 0.50    263.0\n",
        "  # 0.75    298.0\n",
        "  if recency >=0 and recency <= 248:\n",
        "    return 1\n",
        "  elif recency >248 and recency <= 263:\n",
        "    return 2\n",
        "  elif recency >263 and recency <= 298:\n",
        "    return 3\n",
        "  else:\n",
        "    return 4"
      ],
      "execution_count": null,
      "outputs": []
    },
    {
      "cell_type": "code",
      "metadata": {
        "id": "Q1ozTQDa6dKG"
      },
      "source": [
        "df_features[\"R_score\"] = df_features.apply(lambda x:convert_R_score(x[\"recency\"]), axis=1)"
      ],
      "execution_count": null,
      "outputs": []
    },
    {
      "cell_type": "code",
      "metadata": {
        "colab": {
          "base_uri": "https://localhost:8080/",
          "height": 195
        },
        "id": "6Qgb3MoJ6vBD",
        "outputId": "e4c6f9f0-1d9c-43c3-f580-23cc33bb943f"
      },
      "source": [
        "df_features.head()"
      ],
      "execution_count": null,
      "outputs": [
        {
          "output_type": "execute_result",
          "data": {
            "text/html": [
              "<div>\n",
              "<style scoped>\n",
              "    .dataframe tbody tr th:only-of-type {\n",
              "        vertical-align: middle;\n",
              "    }\n",
              "\n",
              "    .dataframe tbody tr th {\n",
              "        vertical-align: top;\n",
              "    }\n",
              "\n",
              "    .dataframe thead th {\n",
              "        text-align: right;\n",
              "    }\n",
              "</style>\n",
              "<table border=\"1\" class=\"dataframe\">\n",
              "  <thead>\n",
              "    <tr style=\"text-align: right;\">\n",
              "      <th></th>\n",
              "      <th>customer_id</th>\n",
              "      <th>order_date</th>\n",
              "      <th>recency</th>\n",
              "      <th>frequency</th>\n",
              "      <th>monetary</th>\n",
              "      <th>R_score</th>\n",
              "    </tr>\n",
              "  </thead>\n",
              "  <tbody>\n",
              "    <tr>\n",
              "      <th>0</th>\n",
              "      <td>ALFKI</td>\n",
              "      <td>1998-04-09</td>\n",
              "      <td>267</td>\n",
              "      <td>12</td>\n",
              "      <td>4595.15</td>\n",
              "      <td>3</td>\n",
              "    </tr>\n",
              "    <tr>\n",
              "      <th>1</th>\n",
              "      <td>ANATR</td>\n",
              "      <td>1998-03-04</td>\n",
              "      <td>303</td>\n",
              "      <td>10</td>\n",
              "      <td>1402.95</td>\n",
              "      <td>4</td>\n",
              "    </tr>\n",
              "    <tr>\n",
              "      <th>2</th>\n",
              "      <td>ANTON</td>\n",
              "      <td>1998-01-28</td>\n",
              "      <td>338</td>\n",
              "      <td>17</td>\n",
              "      <td>7514.35</td>\n",
              "      <td>4</td>\n",
              "    </tr>\n",
              "    <tr>\n",
              "      <th>3</th>\n",
              "      <td>AROUT</td>\n",
              "      <td>1998-04-10</td>\n",
              "      <td>266</td>\n",
              "      <td>30</td>\n",
              "      <td>13805.80</td>\n",
              "      <td>3</td>\n",
              "    </tr>\n",
              "    <tr>\n",
              "      <th>4</th>\n",
              "      <td>BERGS</td>\n",
              "      <td>1998-03-04</td>\n",
              "      <td>303</td>\n",
              "      <td>52</td>\n",
              "      <td>26965.15</td>\n",
              "      <td>4</td>\n",
              "    </tr>\n",
              "  </tbody>\n",
              "</table>\n",
              "</div>"
            ],
            "text/plain": [
              "  customer_id  order_date  recency  frequency  monetary  R_score\n",
              "0       ALFKI  1998-04-09      267         12   4595.15        3\n",
              "1       ANATR  1998-03-04      303         10   1402.95        4\n",
              "2       ANTON  1998-01-28      338         17   7514.35        4\n",
              "3       AROUT  1998-04-10      266         30  13805.80        3\n",
              "4       BERGS  1998-03-04      303         52  26965.15        4"
            ]
          },
          "metadata": {
            "tags": []
          },
          "execution_count": 74
        }
      ]
    },
    {
      "cell_type": "code",
      "metadata": {
        "id": "K2oNhLKF6wdx"
      },
      "source": [
        ""
      ],
      "execution_count": null,
      "outputs": []
    }
  ]
}